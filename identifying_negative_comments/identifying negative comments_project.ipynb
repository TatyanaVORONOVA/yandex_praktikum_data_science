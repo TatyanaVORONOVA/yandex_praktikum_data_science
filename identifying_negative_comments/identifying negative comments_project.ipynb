{
 "cells": [
  {
   "cell_type": "markdown",
   "metadata": {},
   "source": [
    "# Проект по построению модели для выявления негативных комментариев"
   ]
  },
  {
   "cell_type": "markdown",
   "metadata": {},
   "source": [
    "## Введение"
   ]
  },
  {
   "cell_type": "markdown",
   "metadata": {},
   "source": [
    "**Вводные данные проекта:**\n",
    "\n",
    "**Заказчик:** Интернет-магазин «Викишоп».\n",
    "\n",
    "Интернет-магазин запускает новый сервис. Теперь пользователи могут редактировать и дополнять описания товаров, как в вики-сообществах. Магазину нужен инструмент, который будет искать токсичные комментарии и отправлять их на модерацию.\n",
    "\n",
    "**Цель проекта:** построить модель для выявления негативных комментариев при пользовательском редактировании описания товаров. \n",
    "\n",
    "**Дополнительные условия заказчика:**\n",
    "- значение метрики F1 не менее 0.75.\n",
    "\n",
    "**Данные для анализа и построения модели:** набор данных с разметкой о токсичности правок.\n",
    "\n",
    "**Описание данных:** данные находятся в файле toxic_comments.csv. Столбец text в нём содержит текст комментария, а toxic — целевой признак.\n",
    "\n",
    "**Этапы проекта:**\n",
    "\n",
    "1. Загрузить данные и провести разведочный анализ данных.\n",
    "2. Подготовить их к обучению (трансформировать данные с помощью TfidfVectorizer и удалить стоп-слова).\n",
    "3. Осуществить подбор гиперпараметров моделей, обучить и протестировать на валидационной выборке.\n",
    "4. Выбрать лучшую модель и протестировать ее.\n",
    "5. Сравнить результаты с целевым значением F1 (не менее 0.75).\n",
    "5. Сделать выводы по результатам проекта."
   ]
  },
  {
   "cell_type": "markdown",
   "metadata": {},
   "source": [
    "## Загрузка и подготовка данных"
   ]
  },
  {
   "cell_type": "markdown",
   "metadata": {},
   "source": [
    "### Загрузка необходимых библиотек и данных "
   ]
  },
  {
   "cell_type": "markdown",
   "metadata": {},
   "source": [
    "Установка необходимых библиотек:"
   ]
  },
  {
   "cell_type": "code",
   "execution_count": 1,
   "metadata": {
    "scrolled": true
   },
   "outputs": [
    {
     "name": "stdout",
     "output_type": "stream",
     "text": [
      "Requirement already satisfied: pandas-profiling in e:\\anaconda3\\envs\\ds_practicum_env\\lib\\site-packages (3.6.2)\n",
      "Requirement already satisfied: matplotlib<3.7,>=3.2 in e:\\anaconda3\\envs\\ds_practicum_env\\lib\\site-packages (from pandas-profiling) (3.3.4)\n",
      "Requirement already satisfied: visions[type_image_path]==0.7.5 in e:\\anaconda3\\envs\\ds_practicum_env\\lib\\site-packages (from pandas-profiling) (0.7.5)\n",
      "Requirement already satisfied: tqdm<4.65,>=4.48.2 in e:\\anaconda3\\envs\\ds_practicum_env\\lib\\site-packages (from pandas-profiling) (4.64.0)\n",
      "Requirement already satisfied: pandas!=1.4.0,<1.6,>1.1 in e:\\anaconda3\\envs\\ds_practicum_env\\lib\\site-packages (from pandas-profiling) (1.2.4)\n",
      "Requirement already satisfied: numpy<1.24,>=1.16.0 in e:\\anaconda3\\envs\\ds_practicum_env\\lib\\site-packages (from pandas-profiling) (1.20.1)\n",
      "Requirement already satisfied: PyYAML<6.1,>=5.0.0 in e:\\anaconda3\\envs\\ds_practicum_env\\lib\\site-packages (from pandas-profiling) (6.0)\n",
      "Requirement already satisfied: seaborn<0.13,>=0.10.1 in e:\\anaconda3\\envs\\ds_practicum_env\\lib\\site-packages (from pandas-profiling) (0.11.1)\n",
      "Requirement already satisfied: scipy<1.10,>=1.4.1 in e:\\anaconda3\\envs\\ds_practicum_env\\lib\\site-packages (from pandas-profiling) (1.8.0)\n",
      "Requirement already satisfied: statsmodels<0.14,>=0.13.2 in e:\\anaconda3\\envs\\ds_practicum_env\\lib\\site-packages (from pandas-profiling) (0.13.2)\n",
      "Requirement already satisfied: pydantic<1.11,>=1.8.1 in e:\\anaconda3\\envs\\ds_practicum_env\\lib\\site-packages (from pandas-profiling) (1.10.4)\n",
      "Requirement already satisfied: multimethod<1.10,>=1.4 in e:\\anaconda3\\envs\\ds_practicum_env\\lib\\site-packages (from pandas-profiling) (1.9.1)\n",
      "Requirement already satisfied: jinja2<3.2,>=2.11.1 in c:\\users\\admin\\appdata\\roaming\\python\\python39\\site-packages (from pandas-profiling) (3.1.2)\n",
      "Requirement already satisfied: htmlmin==0.1.12 in e:\\anaconda3\\envs\\ds_practicum_env\\lib\\site-packages (from pandas-profiling) (0.1.12)\n",
      "Requirement already satisfied: requests<2.29,>=2.24.0 in e:\\anaconda3\\envs\\ds_practicum_env\\lib\\site-packages (from pandas-profiling) (2.28.1)\n",
      "Requirement already satisfied: phik<0.13,>=0.11.1 in e:\\anaconda3\\envs\\ds_practicum_env\\lib\\site-packages (from pandas-profiling) (0.12.3)\n",
      "Requirement already satisfied: typeguard<2.14,>=2.13.2 in e:\\anaconda3\\envs\\ds_practicum_env\\lib\\site-packages (from pandas-profiling) (2.13.3)\n",
      "Requirement already satisfied: networkx>=2.4 in e:\\anaconda3\\envs\\ds_practicum_env\\lib\\site-packages (from visions[type_image_path]==0.7.5->pandas-profiling) (3.0)\n",
      "Requirement already satisfied: tangled-up-in-unicode>=0.0.4 in e:\\anaconda3\\envs\\ds_practicum_env\\lib\\site-packages (from visions[type_image_path]==0.7.5->pandas-profiling) (0.2.0)\n",
      "Requirement already satisfied: attrs>=19.3.0 in e:\\anaconda3\\envs\\ds_practicum_env\\lib\\site-packages (from visions[type_image_path]==0.7.5->pandas-profiling) (21.4.0)\n",
      "Requirement already satisfied: Pillow in e:\\anaconda3\\envs\\ds_practicum_env\\lib\\site-packages (from visions[type_image_path]==0.7.5->pandas-profiling) (8.4.0)\n",
      "Requirement already satisfied: imagehash in e:\\anaconda3\\envs\\ds_practicum_env\\lib\\site-packages (from visions[type_image_path]==0.7.5->pandas-profiling) (4.3.1)\n",
      "Requirement already satisfied: MarkupSafe>=2.0 in e:\\anaconda3\\envs\\ds_practicum_env\\lib\\site-packages (from jinja2<3.2,>=2.11.1->pandas-profiling) (2.1.1)\n",
      "Requirement already satisfied: cycler>=0.10 in e:\\anaconda3\\envs\\ds_practicum_env\\lib\\site-packages (from matplotlib<3.7,>=3.2->pandas-profiling) (0.11.0)\n",
      "Requirement already satisfied: pyparsing!=2.0.4,!=2.1.2,!=2.1.6,>=2.0.3 in e:\\anaconda3\\envs\\ds_practicum_env\\lib\\site-packages (from matplotlib<3.7,>=3.2->pandas-profiling) (3.0.9)\n",
      "Requirement already satisfied: python-dateutil>=2.1 in e:\\anaconda3\\envs\\ds_practicum_env\\lib\\site-packages (from matplotlib<3.7,>=3.2->pandas-profiling) (2.8.2)\n",
      "Requirement already satisfied: kiwisolver>=1.0.1 in e:\\anaconda3\\envs\\ds_practicum_env\\lib\\site-packages (from matplotlib<3.7,>=3.2->pandas-profiling) (1.4.4)\n",
      "Requirement already satisfied: pytz>=2017.3 in e:\\anaconda3\\envs\\ds_practicum_env\\lib\\site-packages (from pandas!=1.4.0,<1.6,>1.1->pandas-profiling) (2022.1)\n",
      "Requirement already satisfied: joblib>=0.14.1 in e:\\anaconda3\\envs\\ds_practicum_env\\lib\\site-packages (from phik<0.13,>=0.11.1->pandas-profiling) (1.1.0)\n",
      "Requirement already satisfied: typing-extensions>=4.2.0 in e:\\anaconda3\\envs\\ds_practicum_env\\lib\\site-packages (from pydantic<1.11,>=1.8.1->pandas-profiling) (4.3.0)\n",
      "Requirement already satisfied: certifi>=2017.4.17 in e:\\anaconda3\\envs\\ds_practicum_env\\lib\\site-packages (from requests<2.29,>=2.24.0->pandas-profiling) (2022.9.14)\n",
      "Requirement already satisfied: charset-normalizer<3,>=2 in e:\\anaconda3\\envs\\ds_practicum_env\\lib\\site-packages (from requests<2.29,>=2.24.0->pandas-profiling) (2.0.4)\n",
      "Requirement already satisfied: urllib3<1.27,>=1.21.1 in e:\\anaconda3\\envs\\ds_practicum_env\\lib\\site-packages (from requests<2.29,>=2.24.0->pandas-profiling) (1.26.11)\n",
      "Requirement already satisfied: idna<4,>=2.5 in e:\\anaconda3\\envs\\ds_practicum_env\\lib\\site-packages (from requests<2.29,>=2.24.0->pandas-profiling) (3.3)\n",
      "Requirement already satisfied: packaging>=21.3 in e:\\anaconda3\\envs\\ds_practicum_env\\lib\\site-packages (from statsmodels<0.14,>=0.13.2->pandas-profiling) (21.3)\n",
      "Requirement already satisfied: patsy>=0.5.2 in e:\\anaconda3\\envs\\ds_practicum_env\\lib\\site-packages (from statsmodels<0.14,>=0.13.2->pandas-profiling) (0.5.2)\n",
      "Requirement already satisfied: colorama in e:\\anaconda3\\envs\\ds_practicum_env\\lib\\site-packages (from tqdm<4.65,>=4.48.2->pandas-profiling) (0.4.5)\n",
      "Requirement already satisfied: six in e:\\anaconda3\\envs\\ds_practicum_env\\lib\\site-packages (from patsy>=0.5.2->statsmodels<0.14,>=0.13.2->pandas-profiling) (1.16.0)\n",
      "Requirement already satisfied: PyWavelets in e:\\anaconda3\\envs\\ds_practicum_env\\lib\\site-packages (from imagehash->visions[type_image_path]==0.7.5->pandas-profiling) (1.4.1)\n",
      "Note: you may need to restart the kernel to use updated packages.\n"
     ]
    }
   ],
   "source": [
    "pip install pandas-profiling"
   ]
  },
  {
   "cell_type": "code",
   "execution_count": 2,
   "metadata": {
    "scrolled": true
   },
   "outputs": [
    {
     "name": "stdout",
     "output_type": "stream",
     "text": [
      "Requirement already satisfied: ipywidgets in e:\\anaconda3\\envs\\ds_practicum_env\\lib\\site-packages (7.7.1)\n",
      "Requirement already satisfied: widgetsnbextension~=3.6.0 in e:\\anaconda3\\envs\\ds_practicum_env\\lib\\site-packages (from ipywidgets) (3.6.1)\n",
      "Requirement already satisfied: traitlets>=4.3.1 in e:\\anaconda3\\envs\\ds_practicum_env\\lib\\site-packages (from ipywidgets) (5.1.1)\n",
      "Requirement already satisfied: ipython-genutils~=0.2.0 in e:\\anaconda3\\envs\\ds_practicum_env\\lib\\site-packages (from ipywidgets) (0.2.0)\n",
      "Requirement already satisfied: ipykernel>=4.5.1 in e:\\anaconda3\\envs\\ds_practicum_env\\lib\\site-packages (from ipywidgets) (6.15.1)\n",
      "Requirement already satisfied: jupyterlab-widgets>=1.0.0 in e:\\anaconda3\\envs\\ds_practicum_env\\lib\\site-packages (from ipywidgets) (1.0.0)\n",
      "Requirement already satisfied: ipython>=4.0.0 in e:\\anaconda3\\envs\\ds_practicum_env\\lib\\site-packages (from ipywidgets) (8.4.0)\n",
      "Requirement already satisfied: pyzmq>=17 in e:\\anaconda3\\envs\\ds_practicum_env\\lib\\site-packages (from ipykernel>=4.5.1->ipywidgets) (23.2.0)\n",
      "Requirement already satisfied: jupyter-client>=6.1.12 in e:\\anaconda3\\envs\\ds_practicum_env\\lib\\site-packages (from ipykernel>=4.5.1->ipywidgets) (7.3.5)\n",
      "Requirement already satisfied: tornado>=6.1 in e:\\anaconda3\\envs\\ds_practicum_env\\lib\\site-packages (from ipykernel>=4.5.1->ipywidgets) (6.2)\n",
      "Requirement already satisfied: packaging in e:\\anaconda3\\envs\\ds_practicum_env\\lib\\site-packages (from ipykernel>=4.5.1->ipywidgets) (21.3)\n",
      "Requirement already satisfied: psutil in e:\\anaconda3\\envs\\ds_practicum_env\\lib\\site-packages (from ipykernel>=4.5.1->ipywidgets) (5.9.0)\n",
      "Requirement already satisfied: matplotlib-inline>=0.1 in e:\\anaconda3\\envs\\ds_practicum_env\\lib\\site-packages (from ipykernel>=4.5.1->ipywidgets) (0.1.6)\n",
      "Requirement already satisfied: debugpy>=1.0 in e:\\anaconda3\\envs\\ds_practicum_env\\lib\\site-packages (from ipykernel>=4.5.1->ipywidgets) (1.5.1)\n",
      "Requirement already satisfied: nest-asyncio in e:\\anaconda3\\envs\\ds_practicum_env\\lib\\site-packages (from ipykernel>=4.5.1->ipywidgets) (1.5.5)\n",
      "Requirement already satisfied: backcall in e:\\anaconda3\\envs\\ds_practicum_env\\lib\\site-packages (from ipython>=4.0.0->ipywidgets) (0.2.0)\n",
      "Requirement already satisfied: pickleshare in e:\\anaconda3\\envs\\ds_practicum_env\\lib\\site-packages (from ipython>=4.0.0->ipywidgets) (0.7.5)\n",
      "Requirement already satisfied: prompt-toolkit!=3.0.0,!=3.0.1,<3.1.0,>=2.0.0 in e:\\anaconda3\\envs\\ds_practicum_env\\lib\\site-packages (from ipython>=4.0.0->ipywidgets) (3.0.20)\n",
      "Requirement already satisfied: pygments>=2.4.0 in e:\\anaconda3\\envs\\ds_practicum_env\\lib\\site-packages (from ipython>=4.0.0->ipywidgets) (2.11.2)\n",
      "Requirement already satisfied: decorator in e:\\anaconda3\\envs\\ds_practicum_env\\lib\\site-packages (from ipython>=4.0.0->ipywidgets) (5.1.1)\n",
      "Requirement already satisfied: setuptools>=18.5 in e:\\anaconda3\\envs\\ds_practicum_env\\lib\\site-packages (from ipython>=4.0.0->ipywidgets) (63.4.1)\n",
      "Requirement already satisfied: colorama in e:\\anaconda3\\envs\\ds_practicum_env\\lib\\site-packages (from ipython>=4.0.0->ipywidgets) (0.4.5)\n",
      "Requirement already satisfied: stack-data in e:\\anaconda3\\envs\\ds_practicum_env\\lib\\site-packages (from ipython>=4.0.0->ipywidgets) (0.2.0)\n",
      "Requirement already satisfied: jedi>=0.16 in e:\\anaconda3\\envs\\ds_practicum_env\\lib\\site-packages (from ipython>=4.0.0->ipywidgets) (0.18.1)\n",
      "Requirement already satisfied: notebook>=4.4.1 in e:\\anaconda3\\envs\\ds_practicum_env\\lib\\site-packages (from widgetsnbextension~=3.6.0->ipywidgets) (6.4.12)\n",
      "Requirement already satisfied: parso<0.9.0,>=0.8.0 in e:\\anaconda3\\envs\\ds_practicum_env\\lib\\site-packages (from jedi>=0.16->ipython>=4.0.0->ipywidgets) (0.8.3)\n",
      "Requirement already satisfied: python-dateutil>=2.8.2 in e:\\anaconda3\\envs\\ds_practicum_env\\lib\\site-packages (from jupyter-client>=6.1.12->ipykernel>=4.5.1->ipywidgets) (2.8.2)\n",
      "Requirement already satisfied: jupyter-core>=4.9.2 in e:\\anaconda3\\envs\\ds_practicum_env\\lib\\site-packages (from jupyter-client>=6.1.12->ipykernel>=4.5.1->ipywidgets) (4.11.1)\n",
      "Requirement already satisfied: entrypoints in e:\\anaconda3\\envs\\ds_practicum_env\\lib\\site-packages (from jupyter-client>=6.1.12->ipykernel>=4.5.1->ipywidgets) (0.4)\n",
      "Requirement already satisfied: argon2-cffi in e:\\anaconda3\\envs\\ds_practicum_env\\lib\\site-packages (from notebook>=4.4.1->widgetsnbextension~=3.6.0->ipywidgets) (21.3.0)\n",
      "Requirement already satisfied: nbformat in e:\\anaconda3\\envs\\ds_practicum_env\\lib\\site-packages (from notebook>=4.4.1->widgetsnbextension~=3.6.0->ipywidgets) (5.5.0)\n",
      "Requirement already satisfied: nbconvert>=5 in c:\\users\\admin\\appdata\\roaming\\python\\python39\\site-packages (from notebook>=4.4.1->widgetsnbextension~=3.6.0->ipywidgets) (7.2.6)\n",
      "Requirement already satisfied: terminado>=0.8.3 in e:\\anaconda3\\envs\\ds_practicum_env\\lib\\site-packages (from notebook>=4.4.1->widgetsnbextension~=3.6.0->ipywidgets) (0.13.1)\n",
      "Requirement already satisfied: jinja2 in c:\\users\\admin\\appdata\\roaming\\python\\python39\\site-packages (from notebook>=4.4.1->widgetsnbextension~=3.6.0->ipywidgets) (3.1.2)\n",
      "Requirement already satisfied: prometheus-client in e:\\anaconda3\\envs\\ds_practicum_env\\lib\\site-packages (from notebook>=4.4.1->widgetsnbextension~=3.6.0->ipywidgets) (0.14.1)\n",
      "Requirement already satisfied: Send2Trash>=1.8.0 in e:\\anaconda3\\envs\\ds_practicum_env\\lib\\site-packages (from notebook>=4.4.1->widgetsnbextension~=3.6.0->ipywidgets) (1.8.0)\n",
      "Requirement already satisfied: wcwidth in e:\\anaconda3\\envs\\ds_practicum_env\\lib\\site-packages (from prompt-toolkit!=3.0.0,!=3.0.1,<3.1.0,>=2.0.0->ipython>=4.0.0->ipywidgets) (0.2.5)\n",
      "Requirement already satisfied: pyparsing!=3.0.5,>=2.0.2 in e:\\anaconda3\\envs\\ds_practicum_env\\lib\\site-packages (from packaging->ipykernel>=4.5.1->ipywidgets) (3.0.9)\n",
      "Requirement already satisfied: asttokens in e:\\anaconda3\\envs\\ds_practicum_env\\lib\\site-packages (from stack-data->ipython>=4.0.0->ipywidgets) (2.0.5)\n",
      "Requirement already satisfied: executing in e:\\anaconda3\\envs\\ds_practicum_env\\lib\\site-packages (from stack-data->ipython>=4.0.0->ipywidgets) (0.8.3)\n",
      "Requirement already satisfied: pure-eval in e:\\anaconda3\\envs\\ds_practicum_env\\lib\\site-packages (from stack-data->ipython>=4.0.0->ipywidgets) (0.2.2)\n",
      "Requirement already satisfied: pywin32>=1.0 in e:\\anaconda3\\envs\\ds_practicum_env\\lib\\site-packages (from jupyter-core>=4.9.2->jupyter-client>=6.1.12->ipykernel>=4.5.1->ipywidgets) (302)\n",
      "Requirement already satisfied: jupyterlab-pygments in e:\\anaconda3\\envs\\ds_practicum_env\\lib\\site-packages (from nbconvert>=5->notebook>=4.4.1->widgetsnbextension~=3.6.0->ipywidgets) (0.1.2)\n",
      "Requirement already satisfied: nbclient>=0.5.0 in e:\\anaconda3\\envs\\ds_practicum_env\\lib\\site-packages (from nbconvert>=5->notebook>=4.4.1->widgetsnbextension~=3.6.0->ipywidgets) (0.5.13)\n",
      "Requirement already satisfied: bleach in e:\\anaconda3\\envs\\ds_practicum_env\\lib\\site-packages (from nbconvert>=5->notebook>=4.4.1->widgetsnbextension~=3.6.0->ipywidgets) (4.1.0)\n",
      "Requirement already satisfied: defusedxml in e:\\anaconda3\\envs\\ds_practicum_env\\lib\\site-packages (from nbconvert>=5->notebook>=4.4.1->widgetsnbextension~=3.6.0->ipywidgets) (0.7.1)\n",
      "Requirement already satisfied: importlib-metadata>=3.6 in e:\\anaconda3\\envs\\ds_practicum_env\\lib\\site-packages (from nbconvert>=5->notebook>=4.4.1->widgetsnbextension~=3.6.0->ipywidgets) (4.11.3)\n",
      "Requirement already satisfied: markupsafe>=2.0 in e:\\anaconda3\\envs\\ds_practicum_env\\lib\\site-packages (from nbconvert>=5->notebook>=4.4.1->widgetsnbextension~=3.6.0->ipywidgets) (2.1.1)\n",
      "Requirement already satisfied: beautifulsoup4 in e:\\anaconda3\\envs\\ds_practicum_env\\lib\\site-packages (from nbconvert>=5->notebook>=4.4.1->widgetsnbextension~=3.6.0->ipywidgets) (4.11.1)\n",
      "Requirement already satisfied: mistune<3,>=2.0.3 in c:\\users\\admin\\appdata\\roaming\\python\\python39\\site-packages (from nbconvert>=5->notebook>=4.4.1->widgetsnbextension~=3.6.0->ipywidgets) (2.0.4)\n",
      "Requirement already satisfied: tinycss2 in c:\\users\\admin\\appdata\\roaming\\python\\python39\\site-packages (from nbconvert>=5->notebook>=4.4.1->widgetsnbextension~=3.6.0->ipywidgets) (1.2.1)\n",
      "Requirement already satisfied: pandocfilters>=1.4.1 in e:\\anaconda3\\envs\\ds_practicum_env\\lib\\site-packages (from nbconvert>=5->notebook>=4.4.1->widgetsnbextension~=3.6.0->ipywidgets) (1.5.0)\n",
      "Requirement already satisfied: fastjsonschema in e:\\anaconda3\\envs\\ds_practicum_env\\lib\\site-packages (from nbformat->notebook>=4.4.1->widgetsnbextension~=3.6.0->ipywidgets) (2.16.2)\n",
      "Requirement already satisfied: jsonschema>=2.6 in e:\\anaconda3\\envs\\ds_practicum_env\\lib\\site-packages (from nbformat->notebook>=4.4.1->widgetsnbextension~=3.6.0->ipywidgets) (4.4.0)\n",
      "Requirement already satisfied: six>=1.5 in e:\\anaconda3\\envs\\ds_practicum_env\\lib\\site-packages (from python-dateutil>=2.8.2->jupyter-client>=6.1.12->ipykernel>=4.5.1->ipywidgets) (1.16.0)\n",
      "Requirement already satisfied: pywinpty>=1.1.0 in e:\\anaconda3\\envs\\ds_practicum_env\\lib\\site-packages (from terminado>=0.8.3->notebook>=4.4.1->widgetsnbextension~=3.6.0->ipywidgets) (2.0.2)\n",
      "Requirement already satisfied: argon2-cffi-bindings in e:\\anaconda3\\envs\\ds_practicum_env\\lib\\site-packages (from argon2-cffi->notebook>=4.4.1->widgetsnbextension~=3.6.0->ipywidgets) (21.2.0)\n",
      "Requirement already satisfied: zipp>=0.5 in e:\\anaconda3\\envs\\ds_practicum_env\\lib\\site-packages (from importlib-metadata>=3.6->nbconvert>=5->notebook>=4.4.1->widgetsnbextension~=3.6.0->ipywidgets) (3.8.0)\n",
      "Requirement already satisfied: pyrsistent!=0.17.0,!=0.17.1,!=0.17.2,>=0.14.0 in e:\\anaconda3\\envs\\ds_practicum_env\\lib\\site-packages (from jsonschema>=2.6->nbformat->notebook>=4.4.1->widgetsnbextension~=3.6.0->ipywidgets) (0.18.0)\n",
      "Requirement already satisfied: attrs>=17.4.0 in e:\\anaconda3\\envs\\ds_practicum_env\\lib\\site-packages (from jsonschema>=2.6->nbformat->notebook>=4.4.1->widgetsnbextension~=3.6.0->ipywidgets) (21.4.0)\n",
      "Requirement already satisfied: cffi>=1.0.1 in e:\\anaconda3\\envs\\ds_practicum_env\\lib\\site-packages (from argon2-cffi-bindings->argon2-cffi->notebook>=4.4.1->widgetsnbextension~=3.6.0->ipywidgets) (1.15.1)\n",
      "Requirement already satisfied: soupsieve>1.2 in e:\\anaconda3\\envs\\ds_practicum_env\\lib\\site-packages (from beautifulsoup4->nbconvert>=5->notebook>=4.4.1->widgetsnbextension~=3.6.0->ipywidgets) (2.3.1)\n",
      "Requirement already satisfied: webencodings in e:\\anaconda3\\envs\\ds_practicum_env\\lib\\site-packages (from bleach->nbconvert>=5->notebook>=4.4.1->widgetsnbextension~=3.6.0->ipywidgets) (0.5.1)\n",
      "Requirement already satisfied: pycparser in e:\\anaconda3\\envs\\ds_practicum_env\\lib\\site-packages (from cffi>=1.0.1->argon2-cffi-bindings->argon2-cffi->notebook>=4.4.1->widgetsnbextension~=3.6.0->ipywidgets) (2.21)\n",
      "Note: you may need to restart the kernel to use updated packages.\n"
     ]
    }
   ],
   "source": [
    "pip install ipywidgets"
   ]
  },
  {
   "cell_type": "code",
   "execution_count": 3,
   "metadata": {},
   "outputs": [
    {
     "name": "stderr",
     "output_type": "stream",
     "text": [
      "Enabling notebook extension jupyter-js-widgets/extension...\n",
      "      - Validating: ok\n"
     ]
    }
   ],
   "source": [
    "!jupyter nbextension enable --py widgetsnbextension"
   ]
  },
  {
   "cell_type": "code",
   "execution_count": 4,
   "metadata": {},
   "outputs": [],
   "source": [
    "# загрузка необходимых библиотек\n",
    "import pandas as pd\n",
    "import numpy as np\n",
    "import pandas_profiling\n",
    "import seaborn as sns\n",
    "import matplotlib.pyplot as plt\n",
    "\n",
    "import nltk\n",
    "from nltk.corpus import stopwords as nltk_stopwords\n",
    "from sklearn.feature_extraction.text import TfidfVectorizer \n",
    "from sklearn.linear_model import LogisticRegression\n",
    "from catboost import CatBoostClassifier\n",
    "import lightgbm as lgb\n",
    "from lightgbm import LGBMClassifier\n",
    "from catboost import cv, Pool, FeaturesData\n",
    "from sklearn.metrics import confusion_matrix, f1_score, roc_auc_score, classification_report\n",
    "from sklearn.model_selection import train_test_split, cross_val_score, GridSearchCV\n",
    "from sklearn.ensemble import VotingClassifier"
   ]
  },
  {
   "cell_type": "code",
   "execution_count": 5,
   "metadata": {},
   "outputs": [],
   "source": [
    "# КОНСТАНТЫ\n",
    "SEED = 12345"
   ]
  },
  {
   "cell_type": "code",
   "execution_count": 6,
   "metadata": {},
   "outputs": [
    {
     "data": {
      "text/html": [
       "<div>\n",
       "<style scoped>\n",
       "    .dataframe tbody tr th:only-of-type {\n",
       "        vertical-align: middle;\n",
       "    }\n",
       "\n",
       "    .dataframe tbody tr th {\n",
       "        vertical-align: top;\n",
       "    }\n",
       "\n",
       "    .dataframe thead th {\n",
       "        text-align: right;\n",
       "    }\n",
       "</style>\n",
       "<table border=\"1\" class=\"dataframe\">\n",
       "  <thead>\n",
       "    <tr style=\"text-align: right;\">\n",
       "      <th></th>\n",
       "      <th>text</th>\n",
       "      <th>toxic</th>\n",
       "    </tr>\n",
       "  </thead>\n",
       "  <tbody>\n",
       "    <tr>\n",
       "      <th>0</th>\n",
       "      <td>Explanation\\nWhy the edits made under my usern...</td>\n",
       "      <td>0</td>\n",
       "    </tr>\n",
       "    <tr>\n",
       "      <th>1</th>\n",
       "      <td>D'aww! He matches this background colour I'm s...</td>\n",
       "      <td>0</td>\n",
       "    </tr>\n",
       "    <tr>\n",
       "      <th>2</th>\n",
       "      <td>Hey man, I'm really not trying to edit war. It...</td>\n",
       "      <td>0</td>\n",
       "    </tr>\n",
       "    <tr>\n",
       "      <th>3</th>\n",
       "      <td>\"\\nMore\\nI can't make any real suggestions on ...</td>\n",
       "      <td>0</td>\n",
       "    </tr>\n",
       "    <tr>\n",
       "      <th>4</th>\n",
       "      <td>You, sir, are my hero. Any chance you remember...</td>\n",
       "      <td>0</td>\n",
       "    </tr>\n",
       "  </tbody>\n",
       "</table>\n",
       "</div>"
      ],
      "text/plain": [
       "                                                text  toxic\n",
       "0  Explanation\\nWhy the edits made under my usern...      0\n",
       "1  D'aww! He matches this background colour I'm s...      0\n",
       "2  Hey man, I'm really not trying to edit war. It...      0\n",
       "3  \"\\nMore\\nI can't make any real suggestions on ...      0\n",
       "4  You, sir, are my hero. Any chance you remember...      0"
      ]
     },
     "execution_count": 6,
     "metadata": {},
     "output_type": "execute_result"
    }
   ],
   "source": [
    "# загрузка данных\n",
    "data = pd.read_csv('/datasets/toxic_comments.csv')\n",
    "#data = pd.read_csv('toxic_comments.csv')\n",
    "data = data.drop('Unnamed: 0', axis=1)\n",
    "data.head()"
   ]
  },
  {
   "cell_type": "markdown",
   "metadata": {},
   "source": [
    "### Разведочный анализ данных"
   ]
  },
  {
   "cell_type": "code",
   "execution_count": 7,
   "metadata": {},
   "outputs": [],
   "source": [
    "profile = data.profile_report(title='Разведочный анализ данных', progress_bar=True, explorative=True)"
   ]
  },
  {
   "cell_type": "code",
   "execution_count": 8,
   "metadata": {},
   "outputs": [
    {
     "data": {
      "application/vnd.jupyter.widget-view+json": {
       "model_id": "fac893dd23c24f098bd0ff57de1a0a1a",
       "version_major": 2,
       "version_minor": 0
      },
      "text/plain": [
       "Summarize dataset:   0%|          | 0/5 [00:00<?, ?it/s]"
      ]
     },
     "metadata": {},
     "output_type": "display_data"
    },
    {
     "data": {
      "application/vnd.jupyter.widget-view+json": {
       "model_id": "523b18005bdb49b1bcea0b85026419bd",
       "version_major": 2,
       "version_minor": 0
      },
      "text/plain": [
       "Generate report structure:   0%|          | 0/1 [00:00<?, ?it/s]"
      ]
     },
     "metadata": {},
     "output_type": "display_data"
    },
    {
     "data": {
      "application/vnd.jupyter.widget-view+json": {
       "model_id": "",
       "version_major": 2,
       "version_minor": 0
      },
      "text/plain": [
       "Render widgets:   0%|          | 0/1 [00:00<?, ?it/s]"
      ]
     },
     "metadata": {},
     "output_type": "display_data"
    },
    {
     "data": {
      "application/vnd.jupyter.widget-view+json": {
       "model_id": "56522bb5341e472481091fc921f88c69",
       "version_major": 2,
       "version_minor": 0
      },
      "text/plain": [
       "VBox(children=(Tab(children=(Tab(children=(GridBox(children=(VBox(children=(GridspecLayout(children=(HTML(valu…"
      ]
     },
     "metadata": {},
     "output_type": "display_data"
    }
   ],
   "source": [
    "profile.to_widgets()"
   ]
  },
  {
   "cell_type": "markdown",
   "metadata": {},
   "source": [
    "**Выводы по итогам разведочного анализа данных:**\n",
    "- датафрейм состоит из двух столбцов и 159 292 строк, тип данных - катогориальные;\n",
    "- в данных отсутствуют пропуски и дубликаты данных;\n",
    "- в признаке 'text' содержатся уникальные значения;\n",
    "- целевой признак 'toxic' несбалансирован - класс 1 составляет 0.1%."
   ]
  },
  {
   "cell_type": "markdown",
   "metadata": {},
   "source": [
    "## Обучение"
   ]
  },
  {
   "cell_type": "markdown",
   "metadata": {},
   "source": [
    "### Функции для оптимизации работы с обучением моделей"
   ]
  },
  {
   "cell_type": "code",
   "execution_count": 9,
   "metadata": {},
   "outputs": [],
   "source": [
    "# создадим функции для подбора параметров\n",
    "# целевой метрикой качества выберем f1\n",
    "def gridsearch (model, params, features_train, target_train):\n",
    "    '''подбирает гиперпараметры к модели с помощью GridSearchCV'''\n",
    "    grid = GridSearchCV(model, params, n_jobs=-1, scoring='f1', cv=3, verbose = False)\n",
    "    grid.fit(features_train, target_train)\n",
    "    print('Лучшие параметры модели:', grid.best_params_)\n",
    "    print(f'{model}','F1: {:.2f}'.format(grid.best_score_))\n",
    "    return grid"
   ]
  },
  {
   "cell_type": "markdown",
   "metadata": {},
   "source": [
    "### Деление данных на выборки и подготовка признаков для обучения моделей"
   ]
  },
  {
   "cell_type": "code",
   "execution_count": 10,
   "metadata": {},
   "outputs": [],
   "source": [
    "# подготовим признаки\n",
    "features = data['text'] #.values.astype('U') \n",
    "target = data['toxic']"
   ]
  },
  {
   "cell_type": "code",
   "execution_count": 11,
   "metadata": {},
   "outputs": [],
   "source": [
    "# разделим данные на выборки с использованием стратификации\n",
    "features_train_v, features_test, target_train_v, target_test = train_test_split(\n",
    "    features, target, test_size=0.2, random_state=SEED, stratify=target)"
   ]
  },
  {
   "cell_type": "code",
   "execution_count": 12,
   "metadata": {},
   "outputs": [],
   "source": [
    "features_train, features_valid, target_train, target_valid = train_test_split(\n",
    "    features_train_v, target_train_v, test_size=0.25, random_state=SEED, stratify=target_train_v)"
   ]
  },
  {
   "cell_type": "code",
   "execution_count": 13,
   "metadata": {},
   "outputs": [
    {
     "name": "stdout",
     "output_type": "stream",
     "text": [
      "Количество строк в данных по классам: [143106  16186]\n",
      "доля: [0.89838787 0.10161213]\n",
      "Количество строк в target_train по классам: [85862  9712]\n",
      "доля: [0.89838241 0.10161759]\n",
      "Количество строк в target_valid по классам: [28622  3237]\n",
      "доля: [0.89839606 0.10160394]\n",
      "Количество строк в target_test по классам: [28622  3237]\n",
      "доля: [0.89839606 0.10160394]\n"
     ]
    }
   ],
   "source": [
    "print(f'Количество строк в данных по классам: {np.bincount(target)}')\n",
    "print(f'доля: {np.bincount(target)/target.count()}')\n",
    "print(f'Количество строк в target_train по классам: {np.bincount(target_train)}') \n",
    "print(f'доля: {np.bincount(target_train)/target_train.count()}') \n",
    "print(f'Количество строк в target_valid по классам: {np.bincount(target_valid)}') \n",
    "print(f'доля: {np.bincount(target_valid)/target_valid.count()}') \n",
    "print(f'Количество строк в target_test по классам: {np.bincount(target_test)}') \n",
    "print(f'доля: {np.bincount(target_test)/target_test.count()}')"
   ]
  },
  {
   "cell_type": "markdown",
   "metadata": {},
   "source": [
    "Выборки разделены пропорционально."
   ]
  },
  {
   "cell_type": "code",
   "execution_count": 14,
   "metadata": {},
   "outputs": [
    {
     "name": "stderr",
     "output_type": "stream",
     "text": [
      "[nltk_data] Downloading package stopwords to\n",
      "[nltk_data]     C:\\Users\\Admin\\AppData\\Roaming\\nltk_data...\n",
      "[nltk_data]   Package stopwords is already up-to-date!\n"
     ]
    }
   ],
   "source": [
    "# загрузим стоп-слова\n",
    "nltk.download('stopwords')\n",
    "stopwords = set(nltk_stopwords.words('russian'))"
   ]
  },
  {
   "cell_type": "code",
   "execution_count": 15,
   "metadata": {},
   "outputs": [],
   "source": [
    "# вычислим TF-IDF для корпуса текстов\n",
    "tf_idf = TfidfVectorizer(stop_words=stopwords) "
   ]
  },
  {
   "cell_type": "code",
   "execution_count": 16,
   "metadata": {},
   "outputs": [
    {
     "data": {
      "text/html": [
       "<style>#sk-container-id-1 {color: black;background-color: white;}#sk-container-id-1 pre{padding: 0;}#sk-container-id-1 div.sk-toggleable {background-color: white;}#sk-container-id-1 label.sk-toggleable__label {cursor: pointer;display: block;width: 100%;margin-bottom: 0;padding: 0.3em;box-sizing: border-box;text-align: center;}#sk-container-id-1 label.sk-toggleable__label-arrow:before {content: \"▸\";float: left;margin-right: 0.25em;color: #696969;}#sk-container-id-1 label.sk-toggleable__label-arrow:hover:before {color: black;}#sk-container-id-1 div.sk-estimator:hover label.sk-toggleable__label-arrow:before {color: black;}#sk-container-id-1 div.sk-toggleable__content {max-height: 0;max-width: 0;overflow: hidden;text-align: left;background-color: #f0f8ff;}#sk-container-id-1 div.sk-toggleable__content pre {margin: 0.2em;color: black;border-radius: 0.25em;background-color: #f0f8ff;}#sk-container-id-1 input.sk-toggleable__control:checked~div.sk-toggleable__content {max-height: 200px;max-width: 100%;overflow: auto;}#sk-container-id-1 input.sk-toggleable__control:checked~label.sk-toggleable__label-arrow:before {content: \"▾\";}#sk-container-id-1 div.sk-estimator input.sk-toggleable__control:checked~label.sk-toggleable__label {background-color: #d4ebff;}#sk-container-id-1 div.sk-label input.sk-toggleable__control:checked~label.sk-toggleable__label {background-color: #d4ebff;}#sk-container-id-1 input.sk-hidden--visually {border: 0;clip: rect(1px 1px 1px 1px);clip: rect(1px, 1px, 1px, 1px);height: 1px;margin: -1px;overflow: hidden;padding: 0;position: absolute;width: 1px;}#sk-container-id-1 div.sk-estimator {font-family: monospace;background-color: #f0f8ff;border: 1px dotted black;border-radius: 0.25em;box-sizing: border-box;margin-bottom: 0.5em;}#sk-container-id-1 div.sk-estimator:hover {background-color: #d4ebff;}#sk-container-id-1 div.sk-parallel-item::after {content: \"\";width: 100%;border-bottom: 1px solid gray;flex-grow: 1;}#sk-container-id-1 div.sk-label:hover label.sk-toggleable__label {background-color: #d4ebff;}#sk-container-id-1 div.sk-serial::before {content: \"\";position: absolute;border-left: 1px solid gray;box-sizing: border-box;top: 0;bottom: 0;left: 50%;z-index: 0;}#sk-container-id-1 div.sk-serial {display: flex;flex-direction: column;align-items: center;background-color: white;padding-right: 0.2em;padding-left: 0.2em;position: relative;}#sk-container-id-1 div.sk-item {position: relative;z-index: 1;}#sk-container-id-1 div.sk-parallel {display: flex;align-items: stretch;justify-content: center;background-color: white;position: relative;}#sk-container-id-1 div.sk-item::before, #sk-container-id-1 div.sk-parallel-item::before {content: \"\";position: absolute;border-left: 1px solid gray;box-sizing: border-box;top: 0;bottom: 0;left: 50%;z-index: -1;}#sk-container-id-1 div.sk-parallel-item {display: flex;flex-direction: column;z-index: 1;position: relative;background-color: white;}#sk-container-id-1 div.sk-parallel-item:first-child::after {align-self: flex-end;width: 50%;}#sk-container-id-1 div.sk-parallel-item:last-child::after {align-self: flex-start;width: 50%;}#sk-container-id-1 div.sk-parallel-item:only-child::after {width: 0;}#sk-container-id-1 div.sk-dashed-wrapped {border: 1px dashed gray;margin: 0 0.4em 0.5em 0.4em;box-sizing: border-box;padding-bottom: 0.4em;background-color: white;}#sk-container-id-1 div.sk-label label {font-family: monospace;font-weight: bold;display: inline-block;line-height: 1.2em;}#sk-container-id-1 div.sk-label-container {text-align: center;}#sk-container-id-1 div.sk-container {/* jupyter's `normalize.less` sets `[hidden] { display: none; }` but bootstrap.min.css set `[hidden] { display: none !important; }` so we also need the `!important` here to be able to override the default hidden behavior on the sphinx rendered scikit-learn.org. See: https://github.com/scikit-learn/scikit-learn/issues/21755 */display: inline-block !important;position: relative;}#sk-container-id-1 div.sk-text-repr-fallback {display: none;}</style><div id=\"sk-container-id-1\" class=\"sk-top-container\"><div class=\"sk-text-repr-fallback\"><pre>TfidfVectorizer(stop_words={&#x27;а&#x27;, &#x27;без&#x27;, &#x27;более&#x27;, &#x27;больше&#x27;, &#x27;будет&#x27;, &#x27;будто&#x27;,\n",
       "                            &#x27;бы&#x27;, &#x27;был&#x27;, &#x27;была&#x27;, &#x27;были&#x27;, &#x27;было&#x27;, &#x27;быть&#x27;, &#x27;в&#x27;,\n",
       "                            &#x27;вам&#x27;, &#x27;вас&#x27;, &#x27;вдруг&#x27;, &#x27;ведь&#x27;, &#x27;во&#x27;, &#x27;вот&#x27;,\n",
       "                            &#x27;впрочем&#x27;, &#x27;все&#x27;, &#x27;всегда&#x27;, &#x27;всего&#x27;, &#x27;всех&#x27;, &#x27;всю&#x27;,\n",
       "                            &#x27;вы&#x27;, &#x27;где&#x27;, &#x27;да&#x27;, &#x27;даже&#x27;, &#x27;два&#x27;, ...})</pre><b>In a Jupyter environment, please rerun this cell to show the HTML representation or trust the notebook. <br />On GitHub, the HTML representation is unable to render, please try loading this page with nbviewer.org.</b></div><div class=\"sk-container\" hidden><div class=\"sk-item\"><div class=\"sk-estimator sk-toggleable\"><input class=\"sk-toggleable__control sk-hidden--visually\" id=\"sk-estimator-id-1\" type=\"checkbox\" checked><label for=\"sk-estimator-id-1\" class=\"sk-toggleable__label sk-toggleable__label-arrow\">TfidfVectorizer</label><div class=\"sk-toggleable__content\"><pre>TfidfVectorizer(stop_words={&#x27;а&#x27;, &#x27;без&#x27;, &#x27;более&#x27;, &#x27;больше&#x27;, &#x27;будет&#x27;, &#x27;будто&#x27;,\n",
       "                            &#x27;бы&#x27;, &#x27;был&#x27;, &#x27;была&#x27;, &#x27;были&#x27;, &#x27;было&#x27;, &#x27;быть&#x27;, &#x27;в&#x27;,\n",
       "                            &#x27;вам&#x27;, &#x27;вас&#x27;, &#x27;вдруг&#x27;, &#x27;ведь&#x27;, &#x27;во&#x27;, &#x27;вот&#x27;,\n",
       "                            &#x27;впрочем&#x27;, &#x27;все&#x27;, &#x27;всегда&#x27;, &#x27;всего&#x27;, &#x27;всех&#x27;, &#x27;всю&#x27;,\n",
       "                            &#x27;вы&#x27;, &#x27;где&#x27;, &#x27;да&#x27;, &#x27;даже&#x27;, &#x27;два&#x27;, ...})</pre></div></div></div></div></div>"
      ],
      "text/plain": [
       "TfidfVectorizer(stop_words={'а', 'без', 'более', 'больше', 'будет', 'будто',\n",
       "                            'бы', 'был', 'была', 'были', 'было', 'быть', 'в',\n",
       "                            'вам', 'вас', 'вдруг', 'ведь', 'во', 'вот',\n",
       "                            'впрочем', 'все', 'всегда', 'всего', 'всех', 'всю',\n",
       "                            'вы', 'где', 'да', 'даже', 'два', ...})"
      ]
     },
     "execution_count": 16,
     "metadata": {},
     "output_type": "execute_result"
    }
   ],
   "source": [
    "# обучаем TF-IDF на обучающей выборке\n",
    "tf_idf.fit(features_train)"
   ]
  },
  {
   "cell_type": "code",
   "execution_count": 17,
   "metadata": {},
   "outputs": [
    {
     "data": {
      "text/plain": [
       "(95574, 139724)"
      ]
     },
     "execution_count": 17,
     "metadata": {},
     "output_type": "execute_result"
    }
   ],
   "source": [
    "# преобразовываем обучающую выборку\n",
    "features_train = tf_idf.transform(features_train) \n",
    "features_train.shape"
   ]
  },
  {
   "cell_type": "code",
   "execution_count": 18,
   "metadata": {},
   "outputs": [
    {
     "data": {
      "text/plain": [
       "(31859, 139724)"
      ]
     },
     "execution_count": 18,
     "metadata": {},
     "output_type": "execute_result"
    }
   ],
   "source": [
    "# преобразовываем обучающую выборку\n",
    "features_valid = tf_idf.transform(features_valid) \n",
    "features_valid.shape"
   ]
  },
  {
   "cell_type": "code",
   "execution_count": 19,
   "metadata": {},
   "outputs": [
    {
     "data": {
      "text/plain": [
       "(31859, 139724)"
      ]
     },
     "execution_count": 19,
     "metadata": {},
     "output_type": "execute_result"
    }
   ],
   "source": [
    "# преобразовываем тестовую выборку\n",
    "features_test = tf_idf.transform(features_test) \n",
    "features_test.shape"
   ]
  },
  {
   "cell_type": "markdown",
   "metadata": {},
   "source": [
    "Признаки подготовлены к обучению моделей."
   ]
  },
  {
   "cell_type": "markdown",
   "metadata": {},
   "source": [
    "### Определение приоритетных метрик качества для моделей"
   ]
  },
  {
   "cell_type": "markdown",
   "metadata": {},
   "source": [
    "В требованиях от заказчика указана целевая метрика F1 со значением не менее 0.75, поэтому при оценке моделей будем ориентироваться на данную метрику. Она позволяет учесть как точность (precision), так и полноту (recall) при определении целевых классов.\n",
    "\n",
    "Так как в данных наблюдается дисбаланс (1 класс составляет около 0.1%), то при сравнении моделей, достигших целевой метрики F1, будем использовать ROC_AUC. ROC-кривая показывает зависимость количества верно классифицированных положительных примеров от количества неверно классифицированных отрицательных примеров.\n",
    "\n",
    "Далее, с помощью подбора порогового значения при присвоении класса, можно будет корректировать модель с учетом целей заказчика:\n",
    "- первая стратегия: по максимому исключить токсичные комментарии, то есть отправить максимальное количество токсичные комментариев на модерацию. При этом в токсичные комментарии будут попадать и обычные комментарии. Порог значения при этом будет менее 0.5;\n",
    "\n",
    "- вторая стратегия: прицельная модерация комментариев, которые с высокой вероятностью являются токсичными, то есть будет важна точность в определении класса 1. Порог значения при этом будет равен или более 0.5."
   ]
  },
  {
   "cell_type": "markdown",
   "metadata": {},
   "source": [
    "### Обучение и подбор гиперпараметров для моделей¶"
   ]
  },
  {
   "cell_type": "markdown",
   "metadata": {},
   "source": [
    "#### CatBoostClassifier"
   ]
  },
  {
   "cell_type": "markdown",
   "metadata": {},
   "source": [
    "Создадим параметры для модели:"
   ]
  },
  {
   "cell_type": "code",
   "execution_count": 20,
   "metadata": {},
   "outputs": [],
   "source": [
    "# с целевой метрикой F1 (с балансировкой классов)\n",
    "params = {}\n",
    "params['loss_function'] = 'Logloss'\n",
    "params['iterations'] = 170\n",
    "params['custom_loss'] = ['F1', 'AUC']\n",
    "params['random_seed'] = SEED\n",
    "params['learning_rate'] = 0.5\n",
    "params['early_stopping_rounds'] = 20\n",
    "params['eval_metric'] = 'F1'\n",
    "params['auto_class_weights']='Balanced'"
   ]
  },
  {
   "cell_type": "markdown",
   "metadata": {},
   "source": [
    "Создадим список для сохранения результатов метрик качества по обучаемым моделям:"
   ]
  },
  {
   "cell_type": "code",
   "execution_count": 21,
   "metadata": {},
   "outputs": [],
   "source": [
    "models_simile = []"
   ]
  },
  {
   "cell_type": "markdown",
   "metadata": {},
   "source": [
    "Оценим варианты параметров на кросс-валидации, затем проверим на валидационной выборке."
   ]
  },
  {
   "cell_type": "code",
   "execution_count": 22,
   "metadata": {},
   "outputs": [
    {
     "data": {
      "application/vnd.jupyter.widget-view+json": {
       "model_id": "efc61f1335e84e75a0c1c3b9f51cb6c4",
       "version_major": 2,
       "version_minor": 0
      },
      "text/plain": [
       "MetricVisualizer(layout=Layout(align_self='stretch', height='500px'))"
      ]
     },
     "metadata": {},
     "output_type": "display_data"
    },
    {
     "name": "stdout",
     "output_type": "stream",
     "text": [
      "Training on fold [0/3]\n",
      "\n",
      "bestTest = 0.8722630482\n",
      "bestIteration = 85\n",
      "\n",
      "Training on fold [1/3]\n",
      "\n",
      "bestTest = 0.8767494605\n",
      "bestIteration = 91\n",
      "\n",
      "Training on fold [2/3]\n",
      "\n",
      "bestTest = 0.8677926836\n",
      "bestIteration = 104\n",
      "\n"
     ]
    }
   ],
   "source": [
    "# кросс-валидация с целевой метрикой F1 (с балансировкой классов)\n",
    "cv_data = cv (\n",
    "\tparams = params,\n",
    "\tpool = Pool(features_train, label=target_train),\n",
    "\tfold_count=3,\n",
    "\tshuffle=True,\n",
    "\tpartition_random_seed=0,\n",
    "    plot=True,\n",
    "\tstratified=True,\n",
    "\tverbose=False)"
   ]
  },
  {
   "cell_type": "code",
   "execution_count": 23,
   "metadata": {},
   "outputs": [
    {
     "name": "stdout",
     "output_type": "stream",
     "text": [
      "Лучшее значение метрики F1 (кросс-валидация): 0.8716683928806547 итерация: 91\n"
     ]
    }
   ],
   "source": [
    "best_values = np.max(cv_data['test-F1-mean'])\n",
    "best_iter = np.argmax(cv_data['test-F1-mean'])\n",
    "print('Лучшее значение метрики F1 (кросс-валидация):', best_values, 'итерация:', best_iter)"
   ]
  },
  {
   "cell_type": "code",
   "execution_count": 24,
   "metadata": {},
   "outputs": [
    {
     "data": {
      "text/html": [
       "<div>\n",
       "<style scoped>\n",
       "    .dataframe tbody tr th:only-of-type {\n",
       "        vertical-align: middle;\n",
       "    }\n",
       "\n",
       "    .dataframe tbody tr th {\n",
       "        vertical-align: top;\n",
       "    }\n",
       "\n",
       "    .dataframe thead th {\n",
       "        text-align: right;\n",
       "    }\n",
       "</style>\n",
       "<table border=\"1\" class=\"dataframe\">\n",
       "  <thead>\n",
       "    <tr style=\"text-align: right;\">\n",
       "      <th></th>\n",
       "      <th>iterations</th>\n",
       "      <th>test-F1-mean</th>\n",
       "      <th>test-F1-std</th>\n",
       "      <th>train-F1-mean</th>\n",
       "      <th>train-F1-std</th>\n",
       "      <th>test-Logloss-mean</th>\n",
       "      <th>test-Logloss-std</th>\n",
       "      <th>train-Logloss-mean</th>\n",
       "      <th>train-Logloss-std</th>\n",
       "      <th>test-AUC-mean</th>\n",
       "      <th>test-AUC-std</th>\n",
       "    </tr>\n",
       "  </thead>\n",
       "  <tbody>\n",
       "    <tr>\n",
       "      <th>91</th>\n",
       "      <td>91</td>\n",
       "      <td>0.871668</td>\n",
       "      <td>0.005309</td>\n",
       "      <td>0.930988</td>\n",
       "      <td>0.001662</td>\n",
       "      <td>0.288146</td>\n",
       "      <td>0.004911</td>\n",
       "      <td>0.206884</td>\n",
       "      <td>0.001712</td>\n",
       "      <td>0.95132</td>\n",
       "      <td>0.00189</td>\n",
       "    </tr>\n",
       "  </tbody>\n",
       "</table>\n",
       "</div>"
      ],
      "text/plain": [
       "    iterations  test-F1-mean  test-F1-std  train-F1-mean  train-F1-std  \\\n",
       "91          91      0.871668     0.005309       0.930988      0.001662   \n",
       "\n",
       "    test-Logloss-mean  test-Logloss-std  train-Logloss-mean  \\\n",
       "91           0.288146          0.004911            0.206884   \n",
       "\n",
       "    train-Logloss-std  test-AUC-mean  test-AUC-std  \n",
       "91           0.001712        0.95132       0.00189  "
      ]
     },
     "execution_count": 24,
     "metadata": {},
     "output_type": "execute_result"
    }
   ],
   "source": [
    "cv_data.loc[cv_data.index==np.argmax(cv_data['test-F1-mean'])]"
   ]
  },
  {
   "cell_type": "markdown",
   "metadata": {},
   "source": [
    "Проверим модель на валидационной выборке:"
   ]
  },
  {
   "cell_type": "code",
   "execution_count": 25,
   "metadata": {},
   "outputs": [],
   "source": [
    "cb_model_f1 = CatBoostClassifier(loss_function='Logloss', iterations=160, custom_loss='F1', random_seed = SEED,\n",
    "                              learning_rate=0.5, early_stopping_rounds=20, eval_metric='F1', verbose=False)"
   ]
  },
  {
   "cell_type": "code",
   "execution_count": 26,
   "metadata": {},
   "outputs": [
    {
     "name": "stdout",
     "output_type": "stream",
     "text": [
      "CPU times: total: 17min 37s\n",
      "Wall time: 5min 22s\n"
     ]
    },
    {
     "data": {
      "text/plain": [
       "<catboost.core.CatBoostClassifier at 0x19cb21d4910>"
      ]
     },
     "execution_count": 26,
     "metadata": {},
     "output_type": "execute_result"
    }
   ],
   "source": [
    "%%time\n",
    "cb_model_f1.fit(features_train, target_train, use_best_model=True, \n",
    "             eval_set=(features_valid, target_valid),\n",
    "            plot=False)"
   ]
  },
  {
   "cell_type": "code",
   "execution_count": 27,
   "metadata": {},
   "outputs": [
    {
     "name": "stdout",
     "output_type": "stream",
     "text": [
      "F1 на валидационной выборке: 0.77\n",
      "ROC_AUC на валидационной выборке: 0.83\n",
      "CPU times: total: 1.27 s\n",
      "Wall time: 572 ms\n"
     ]
    }
   ],
   "source": [
    "%%time\n",
    "predictions_valid = cb_model_f1.predict(features_valid)\n",
    "f1 = f1_score(target_valid, predictions_valid)\n",
    "roc_auc = roc_auc_score(target_valid, predictions_valid, average='weighted')\n",
    "models_simile.append([round(f1,2), round(roc_auc,2)])\n",
    "print(\"F1 на валидационной выборке: %.2f\" % f1)\n",
    "print(\"ROC_AUC на валидационной выборке: %.2f\" % roc_auc)"
   ]
  },
  {
   "cell_type": "code",
   "execution_count": 28,
   "metadata": {},
   "outputs": [
    {
     "data": {
      "image/png": "[encoded data removed]",
      "text/plain": [
       "<Figure size 640x480 with 2 Axes>"
      ]
     },
     "metadata": {},
     "output_type": "display_data"
    }
   ],
   "source": [
    "# построим матрицу ошибок\n",
    "cm = confusion_matrix(target_valid, predictions_valid,  normalize='true')\n",
    "sns.heatmap(cm, annot=True,  fmt='g', cmap='summer')\n",
    "\n",
    "plt.title('Матрица ошибок на валидационной выборке (с нормализацией)')\n",
    "plt.xlabel('предсказания')\n",
    "plt.ylabel('целевые значения')\n",
    "plt.show()"
   ]
  },
  {
   "cell_type": "markdown",
   "metadata": {},
   "source": [
    "Значение метрики F1 - 0.77 удовлетворяет требованиям заказчика (F1 не менее 0.75).\n",
    "\n",
    "Модель CatBoost хорошо показывает себя при определении 0 класса на валидационной выборке (0.99 объектов определено верно), но при определении 1 класса, а это токсичные комментарии, модель показывает всего 0.67, то есть 0.33 \"плохих\" комментариев не будут отправлены на модерацию. "
   ]
  },
  {
   "cell_type": "markdown",
   "metadata": {},
   "source": [
    "#### LogisticRegression"
   ]
  },
  {
   "cell_type": "code",
   "execution_count": 29,
   "metadata": {},
   "outputs": [],
   "source": [
    "params_lr = {}\n",
    "params_lr['C'] = [1, 10, 100]"
   ]
  },
  {
   "cell_type": "code",
   "execution_count": 30,
   "metadata": {},
   "outputs": [
    {
     "name": "stdout",
     "output_type": "stream",
     "text": [
      "Лучшие параметры модели: {'C': 10}\n",
      "LogisticRegression(class_weight='balanced', random_state=12345,\n",
      "                   solver='liblinear') F1: 0.77\n",
      "CPU times: total: 3.3 s\n",
      "Wall time: 24.5 s\n"
     ]
    }
   ],
   "source": [
    "%%time\n",
    "lr_grid = gridsearch(LogisticRegression(random_state=SEED, solver='liblinear', penalty='l2', class_weight='balanced'), \n",
    "                       params_lr, features_train, target_train)"
   ]
  },
  {
   "cell_type": "code",
   "execution_count": 31,
   "metadata": {},
   "outputs": [],
   "source": [
    "logreg = LogisticRegression(random_state=SEED, C=10.0, solver='liblinear', penalty='l2', class_weight='balanced') "
   ]
  },
  {
   "cell_type": "code",
   "execution_count": 32,
   "metadata": {},
   "outputs": [
    {
     "name": "stdout",
     "output_type": "stream",
     "text": [
      "CPU times: total: 3 s\n",
      "Wall time: 3.06 s\n"
     ]
    },
    {
     "data": {
      "text/html": [
       "<style>#sk-container-id-2 {color: black;background-color: white;}#sk-container-id-2 pre{padding: 0;}#sk-container-id-2 div.sk-toggleable {background-color: white;}#sk-container-id-2 label.sk-toggleable__label {cursor: pointer;display: block;width: 100%;margin-bottom: 0;padding: 0.3em;box-sizing: border-box;text-align: center;}#sk-container-id-2 label.sk-toggleable__label-arrow:before {content: \"▸\";float: left;margin-right: 0.25em;color: #696969;}#sk-container-id-2 label.sk-toggleable__label-arrow:hover:before {color: black;}#sk-container-id-2 div.sk-estimator:hover label.sk-toggleable__label-arrow:before {color: black;}#sk-container-id-2 div.sk-toggleable__content {max-height: 0;max-width: 0;overflow: hidden;text-align: left;background-color: #f0f8ff;}#sk-container-id-2 div.sk-toggleable__content pre {margin: 0.2em;color: black;border-radius: 0.25em;background-color: #f0f8ff;}#sk-container-id-2 input.sk-toggleable__control:checked~div.sk-toggleable__content {max-height: 200px;max-width: 100%;overflow: auto;}#sk-container-id-2 input.sk-toggleable__control:checked~label.sk-toggleable__label-arrow:before {content: \"▾\";}#sk-container-id-2 div.sk-estimator input.sk-toggleable__control:checked~label.sk-toggleable__label {background-color: #d4ebff;}#sk-container-id-2 div.sk-label input.sk-toggleable__control:checked~label.sk-toggleable__label {background-color: #d4ebff;}#sk-container-id-2 input.sk-hidden--visually {border: 0;clip: rect(1px 1px 1px 1px);clip: rect(1px, 1px, 1px, 1px);height: 1px;margin: -1px;overflow: hidden;padding: 0;position: absolute;width: 1px;}#sk-container-id-2 div.sk-estimator {font-family: monospace;background-color: #f0f8ff;border: 1px dotted black;border-radius: 0.25em;box-sizing: border-box;margin-bottom: 0.5em;}#sk-container-id-2 div.sk-estimator:hover {background-color: #d4ebff;}#sk-container-id-2 div.sk-parallel-item::after {content: \"\";width: 100%;border-bottom: 1px solid gray;flex-grow: 1;}#sk-container-id-2 div.sk-label:hover label.sk-toggleable__label {background-color: #d4ebff;}#sk-container-id-2 div.sk-serial::before {content: \"\";position: absolute;border-left: 1px solid gray;box-sizing: border-box;top: 0;bottom: 0;left: 50%;z-index: 0;}#sk-container-id-2 div.sk-serial {display: flex;flex-direction: column;align-items: center;background-color: white;padding-right: 0.2em;padding-left: 0.2em;position: relative;}#sk-container-id-2 div.sk-item {position: relative;z-index: 1;}#sk-container-id-2 div.sk-parallel {display: flex;align-items: stretch;justify-content: center;background-color: white;position: relative;}#sk-container-id-2 div.sk-item::before, #sk-container-id-2 div.sk-parallel-item::before {content: \"\";position: absolute;border-left: 1px solid gray;box-sizing: border-box;top: 0;bottom: 0;left: 50%;z-index: -1;}#sk-container-id-2 div.sk-parallel-item {display: flex;flex-direction: column;z-index: 1;position: relative;background-color: white;}#sk-container-id-2 div.sk-parallel-item:first-child::after {align-self: flex-end;width: 50%;}#sk-container-id-2 div.sk-parallel-item:last-child::after {align-self: flex-start;width: 50%;}#sk-container-id-2 div.sk-parallel-item:only-child::after {width: 0;}#sk-container-id-2 div.sk-dashed-wrapped {border: 1px dashed gray;margin: 0 0.4em 0.5em 0.4em;box-sizing: border-box;padding-bottom: 0.4em;background-color: white;}#sk-container-id-2 div.sk-label label {font-family: monospace;font-weight: bold;display: inline-block;line-height: 1.2em;}#sk-container-id-2 div.sk-label-container {text-align: center;}#sk-container-id-2 div.sk-container {/* jupyter's `normalize.less` sets `[hidden] { display: none; }` but bootstrap.min.css set `[hidden] { display: none !important; }` so we also need the `!important` here to be able to override the default hidden behavior on the sphinx rendered scikit-learn.org. See: https://github.com/scikit-learn/scikit-learn/issues/21755 */display: inline-block !important;position: relative;}#sk-container-id-2 div.sk-text-repr-fallback {display: none;}</style><div id=\"sk-container-id-2\" class=\"sk-top-container\"><div class=\"sk-text-repr-fallback\"><pre>LogisticRegression(C=10.0, class_weight=&#x27;balanced&#x27;, random_state=12345,\n",
       "                   solver=&#x27;liblinear&#x27;)</pre><b>In a Jupyter environment, please rerun this cell to show the HTML representation or trust the notebook. <br />On GitHub, the HTML representation is unable to render, please try loading this page with nbviewer.org.</b></div><div class=\"sk-container\" hidden><div class=\"sk-item\"><div class=\"sk-estimator sk-toggleable\"><input class=\"sk-toggleable__control sk-hidden--visually\" id=\"sk-estimator-id-2\" type=\"checkbox\" checked><label for=\"sk-estimator-id-2\" class=\"sk-toggleable__label sk-toggleable__label-arrow\">LogisticRegression</label><div class=\"sk-toggleable__content\"><pre>LogisticRegression(C=10.0, class_weight=&#x27;balanced&#x27;, random_state=12345,\n",
       "                   solver=&#x27;liblinear&#x27;)</pre></div></div></div></div></div>"
      ],
      "text/plain": [
       "LogisticRegression(C=10.0, class_weight='balanced', random_state=12345,\n",
       "                   solver='liblinear')"
      ]
     },
     "execution_count": 32,
     "metadata": {},
     "output_type": "execute_result"
    }
   ],
   "source": [
    "%%time\n",
    "logreg.fit(features_train, target_train)"
   ]
  },
  {
   "cell_type": "code",
   "execution_count": 33,
   "metadata": {},
   "outputs": [
    {
     "name": "stdout",
     "output_type": "stream",
     "text": [
      "Результат кросс-валидации\n",
      "[0.95103322 0.95197489 0.95087628 0.95391054 0.95291409]\n",
      "0.9521418039664595\n"
     ]
    }
   ],
   "source": [
    "print('Результат кросс-валидации')\n",
    "cross = cross_val_score(logreg, features_train, target_train, cv=5)\n",
    "print(cross)\n",
    "print(cross.mean())"
   ]
  },
  {
   "cell_type": "code",
   "execution_count": 34,
   "metadata": {},
   "outputs": [
    {
     "name": "stdout",
     "output_type": "stream",
     "text": [
      "F1 на валидационной выборке: 0.77\n",
      "ROC_AUC на валидационной выборке: 0.89\n",
      "CPU times: total: 46.9 ms\n",
      "Wall time: 38.9 ms\n"
     ]
    }
   ],
   "source": [
    "%%time\n",
    "predictions_valid = logreg.predict(features_valid)\n",
    "f1 = f1_score(target_valid, predictions_valid)\n",
    "roc_auc = roc_auc_score(target_valid, predictions_valid, average='weighted')\n",
    "models_simile.append([round(f1,2), round(roc_auc,2)])\n",
    "print(\"F1 на валидационной выборке: %.2f\" % f1)\n",
    "print(\"ROC_AUC на валидационной выборке: %.2f\" % roc_auc)"
   ]
  },
  {
   "cell_type": "code",
   "execution_count": 35,
   "metadata": {},
   "outputs": [
    {
     "data": {
      "image/png": "[encoded data removed]",
      "text/plain": [
       "<Figure size 640x480 with 2 Axes>"
      ]
     },
     "metadata": {},
     "output_type": "display_data"
    }
   ],
   "source": [
    "# построим матрицу ошибок\n",
    "cm = confusion_matrix(target_valid, predictions_valid,  normalize='true')\n",
    "sns.heatmap(cm, annot=True,  fmt='g', cmap='summer')\n",
    "\n",
    "plt.title('Матрица ошибок на валидационной выборке (с нормализацией)')\n",
    "plt.xlabel('предсказания')\n",
    "plt.ylabel('целевые значения')\n",
    "plt.show()"
   ]
  },
  {
   "cell_type": "markdown",
   "metadata": {},
   "source": [
    "Логистическая регрессия показывает хорошие результаты, как при определении 0 класса - 0.97, так и 1 класса - 0.81.\n",
    "Значение метрики F1 0.77 удовлетворяет требованиям заказчика (F1 не менее 0.75).\n",
    "ROC_AUC у данной модели выше, чем у CatBoost.\n",
    "Также большим преимуществом модели является быстрота обучения и предсказания."
   ]
  },
  {
   "cell_type": "markdown",
   "metadata": {},
   "source": [
    "#### LGBMClassifier"
   ]
  },
  {
   "cell_type": "code",
   "execution_count": 36,
   "metadata": {},
   "outputs": [],
   "source": [
    "params_lgbm = {}\n",
    "params_lgbm['n_estimators'] = [100, 500]\n",
    "params_lgbm['random_seed'] = [SEED]\n",
    "params_lgbm['learning_rate'] = [0.03]\n",
    "params_lgbm['objective'] = ['binary']\n",
    "params_lgbm['is_unbalance'] = [True]"
   ]
  },
  {
   "cell_type": "code",
   "execution_count": 37,
   "metadata": {},
   "outputs": [
    {
     "name": "stdout",
     "output_type": "stream",
     "text": [
      "Лучшие параметры модели: {'is_unbalance': True, 'learning_rate': 0.03, 'n_estimators': 500, 'objective': 'binary', 'random_seed': 12345}\n",
      "LGBMClassifier() F1: 0.72\n",
      "CPU times: total: 8min 45s\n",
      "Wall time: 7min 34s\n"
     ]
    }
   ],
   "source": [
    "%%time\n",
    "lgbm_grid = gridsearch(LGBMClassifier(), params_lgbm, features_train, target_train)"
   ]
  },
  {
   "cell_type": "markdown",
   "metadata": {},
   "source": [
    "Для экономии времени загрузки модели с лучшими параметрами, сохраним параметры и полученную модель в переменные."
   ]
  },
  {
   "cell_type": "code",
   "execution_count": 38,
   "metadata": {},
   "outputs": [],
   "source": [
    "lgbm_model = LGBMClassifier(random_state=SEED, learning_rate= 0.03, n_estimators=500, objective='binary', is_unbalance=True)"
   ]
  },
  {
   "cell_type": "code",
   "execution_count": 39,
   "metadata": {},
   "outputs": [
    {
     "name": "stdout",
     "output_type": "stream",
     "text": [
      "CPU times: total: 8min 43s\n",
      "Wall time: 2min 39s\n"
     ]
    },
    {
     "data": {
      "text/html": [
       "<style>#sk-container-id-3 {color: black;background-color: white;}#sk-container-id-3 pre{padding: 0;}#sk-container-id-3 div.sk-toggleable {background-color: white;}#sk-container-id-3 label.sk-toggleable__label {cursor: pointer;display: block;width: 100%;margin-bottom: 0;padding: 0.3em;box-sizing: border-box;text-align: center;}#sk-container-id-3 label.sk-toggleable__label-arrow:before {content: \"▸\";float: left;margin-right: 0.25em;color: #696969;}#sk-container-id-3 label.sk-toggleable__label-arrow:hover:before {color: black;}#sk-container-id-3 div.sk-estimator:hover label.sk-toggleable__label-arrow:before {color: black;}#sk-container-id-3 div.sk-toggleable__content {max-height: 0;max-width: 0;overflow: hidden;text-align: left;background-color: #f0f8ff;}#sk-container-id-3 div.sk-toggleable__content pre {margin: 0.2em;color: black;border-radius: 0.25em;background-color: #f0f8ff;}#sk-container-id-3 input.sk-toggleable__control:checked~div.sk-toggleable__content {max-height: 200px;max-width: 100%;overflow: auto;}#sk-container-id-3 input.sk-toggleable__control:checked~label.sk-toggleable__label-arrow:before {content: \"▾\";}#sk-container-id-3 div.sk-estimator input.sk-toggleable__control:checked~label.sk-toggleable__label {background-color: #d4ebff;}#sk-container-id-3 div.sk-label input.sk-toggleable__control:checked~label.sk-toggleable__label {background-color: #d4ebff;}#sk-container-id-3 input.sk-hidden--visually {border: 0;clip: rect(1px 1px 1px 1px);clip: rect(1px, 1px, 1px, 1px);height: 1px;margin: -1px;overflow: hidden;padding: 0;position: absolute;width: 1px;}#sk-container-id-3 div.sk-estimator {font-family: monospace;background-color: #f0f8ff;border: 1px dotted black;border-radius: 0.25em;box-sizing: border-box;margin-bottom: 0.5em;}#sk-container-id-3 div.sk-estimator:hover {background-color: #d4ebff;}#sk-container-id-3 div.sk-parallel-item::after {content: \"\";width: 100%;border-bottom: 1px solid gray;flex-grow: 1;}#sk-container-id-3 div.sk-label:hover label.sk-toggleable__label {background-color: #d4ebff;}#sk-container-id-3 div.sk-serial::before {content: \"\";position: absolute;border-left: 1px solid gray;box-sizing: border-box;top: 0;bottom: 0;left: 50%;z-index: 0;}#sk-container-id-3 div.sk-serial {display: flex;flex-direction: column;align-items: center;background-color: white;padding-right: 0.2em;padding-left: 0.2em;position: relative;}#sk-container-id-3 div.sk-item {position: relative;z-index: 1;}#sk-container-id-3 div.sk-parallel {display: flex;align-items: stretch;justify-content: center;background-color: white;position: relative;}#sk-container-id-3 div.sk-item::before, #sk-container-id-3 div.sk-parallel-item::before {content: \"\";position: absolute;border-left: 1px solid gray;box-sizing: border-box;top: 0;bottom: 0;left: 50%;z-index: -1;}#sk-container-id-3 div.sk-parallel-item {display: flex;flex-direction: column;z-index: 1;position: relative;background-color: white;}#sk-container-id-3 div.sk-parallel-item:first-child::after {align-self: flex-end;width: 50%;}#sk-container-id-3 div.sk-parallel-item:last-child::after {align-self: flex-start;width: 50%;}#sk-container-id-3 div.sk-parallel-item:only-child::after {width: 0;}#sk-container-id-3 div.sk-dashed-wrapped {border: 1px dashed gray;margin: 0 0.4em 0.5em 0.4em;box-sizing: border-box;padding-bottom: 0.4em;background-color: white;}#sk-container-id-3 div.sk-label label {font-family: monospace;font-weight: bold;display: inline-block;line-height: 1.2em;}#sk-container-id-3 div.sk-label-container {text-align: center;}#sk-container-id-3 div.sk-container {/* jupyter's `normalize.less` sets `[hidden] { display: none; }` but bootstrap.min.css set `[hidden] { display: none !important; }` so we also need the `!important` here to be able to override the default hidden behavior on the sphinx rendered scikit-learn.org. See: https://github.com/scikit-learn/scikit-learn/issues/21755 */display: inline-block !important;position: relative;}#sk-container-id-3 div.sk-text-repr-fallback {display: none;}</style><div id=\"sk-container-id-3\" class=\"sk-top-container\"><div class=\"sk-text-repr-fallback\"><pre>LGBMClassifier(is_unbalance=True, learning_rate=0.03, n_estimators=500,\n",
       "               objective=&#x27;binary&#x27;, random_state=12345)</pre><b>In a Jupyter environment, please rerun this cell to show the HTML representation or trust the notebook. <br />On GitHub, the HTML representation is unable to render, please try loading this page with nbviewer.org.</b></div><div class=\"sk-container\" hidden><div class=\"sk-item\"><div class=\"sk-estimator sk-toggleable\"><input class=\"sk-toggleable__control sk-hidden--visually\" id=\"sk-estimator-id-3\" type=\"checkbox\" checked><label for=\"sk-estimator-id-3\" class=\"sk-toggleable__label sk-toggleable__label-arrow\">LGBMClassifier</label><div class=\"sk-toggleable__content\"><pre>LGBMClassifier(is_unbalance=True, learning_rate=0.03, n_estimators=500,\n",
       "               objective=&#x27;binary&#x27;, random_state=12345)</pre></div></div></div></div></div>"
      ],
      "text/plain": [
       "LGBMClassifier(is_unbalance=True, learning_rate=0.03, n_estimators=500,\n",
       "               objective='binary', random_state=12345)"
      ]
     },
     "execution_count": 39,
     "metadata": {},
     "output_type": "execute_result"
    }
   ],
   "source": [
    "%%time\n",
    "lgbm_model.fit(features_train, target_train)"
   ]
  },
  {
   "cell_type": "code",
   "execution_count": 40,
   "metadata": {},
   "outputs": [
    {
     "name": "stdout",
     "output_type": "stream",
     "text": [
      "Результат кросс-валидации\n",
      "[0.93307803 0.93427083 0.93354887]\n",
      "0.9336325778977547\n"
     ]
    }
   ],
   "source": [
    "print('Результат кросс-валидации')\n",
    "cross = cross_val_score(lgbm_model, features_train, target_train, cv=3)\n",
    "print(cross)\n",
    "print(cross.mean())"
   ]
  },
  {
   "cell_type": "code",
   "execution_count": 41,
   "metadata": {},
   "outputs": [
    {
     "name": "stdout",
     "output_type": "stream",
     "text": [
      "F1 на валидационной выборке: 0.73\n",
      "ROC_AUC на валидационной выборке: 0.90\n",
      "CPU times: total: 8.88 s\n",
      "Wall time: 2.74 s\n"
     ]
    }
   ],
   "source": [
    "%%time\n",
    "predictions_valid = lgbm_model.predict(features_valid)\n",
    "f1 = f1_score(target_valid, predictions_valid)\n",
    "roc_auc = roc_auc_score(target_valid, predictions_valid, average='weighted')\n",
    "models_simile.append([round(f1,2), round(roc_auc,2)])\n",
    "print(\"F1 на валидационной выборке: %.2f\" % f1)\n",
    "print(\"ROC_AUC на валидационной выборке: %.2f\" % roc_auc)"
   ]
  },
  {
   "cell_type": "code",
   "execution_count": 42,
   "metadata": {},
   "outputs": [
    {
     "data": {
      "image/png": "[encoded data removed]",
      "text/plain": [
       "<Figure size 640x480 with 2 Axes>"
      ]
     },
     "metadata": {},
     "output_type": "display_data"
    }
   ],
   "source": [
    "# построим матрицу ошибок\n",
    "cm = confusion_matrix(target_valid, predictions_valid,  normalize='true')\n",
    "sns.heatmap(cm, annot=True,  fmt='g', cmap='summer')\n",
    "\n",
    "plt.title('Матрица ошибок на валидационной выборке (с нормализацией)')\n",
    "plt.xlabel('предсказания')\n",
    "plt.ylabel('целевые значения')\n",
    "plt.show()"
   ]
  },
  {
   "cell_type": "markdown",
   "metadata": {},
   "source": [
    "Модель LGBMClassifier на валидационной выборке показывает низкое значение F1 - 0.73. Несмотря на это у модели самый высокий ROC_AUC - 0.90 (из обученных). Целевой класс 1 модель определяет лучше, чем остальные.\n",
    "\n",
    "Далее попробуем объединить преимущества моделей LogisticRegression (метрика F1 выше 0.75), LGBMClassifier (высокая точность определение класса 1)."
   ]
  },
  {
   "cell_type": "markdown",
   "metadata": {},
   "source": [
    "#### VotingClassifier с LogisticRegression и LGBMClassifier"
   ]
  },
  {
   "cell_type": "markdown",
   "metadata": {},
   "source": [
    "Попробуем повысить качество предсказаний с помощью объединения ранее обученных моделей LogisticRegression, LGBMClassifier - обучим модель VotingClassifier."
   ]
  },
  {
   "cell_type": "code",
   "execution_count": 43,
   "metadata": {},
   "outputs": [],
   "source": [
    "clf1 = logreg\n",
    "clf2 = lgbm_model"
   ]
  },
  {
   "cell_type": "code",
   "execution_count": 44,
   "metadata": {},
   "outputs": [],
   "source": [
    "vc_model = VotingClassifier(estimators=[('lr', clf1), ('lgbm', clf2)], voting='soft', n_jobs=-1)"
   ]
  },
  {
   "cell_type": "code",
   "execution_count": 45,
   "metadata": {},
   "outputs": [
    {
     "name": "stdout",
     "output_type": "stream",
     "text": [
      "CPU times: total: 422 ms\n",
      "Wall time: 2min 52s\n"
     ]
    },
    {
     "data": {
      "text/html": [
       "<style>#sk-container-id-4 {color: black;background-color: white;}#sk-container-id-4 pre{padding: 0;}#sk-container-id-4 div.sk-toggleable {background-color: white;}#sk-container-id-4 label.sk-toggleable__label {cursor: pointer;display: block;width: 100%;margin-bottom: 0;padding: 0.3em;box-sizing: border-box;text-align: center;}#sk-container-id-4 label.sk-toggleable__label-arrow:before {content: \"▸\";float: left;margin-right: 0.25em;color: #696969;}#sk-container-id-4 label.sk-toggleable__label-arrow:hover:before {color: black;}#sk-container-id-4 div.sk-estimator:hover label.sk-toggleable__label-arrow:before {color: black;}#sk-container-id-4 div.sk-toggleable__content {max-height: 0;max-width: 0;overflow: hidden;text-align: left;background-color: #f0f8ff;}#sk-container-id-4 div.sk-toggleable__content pre {margin: 0.2em;color: black;border-radius: 0.25em;background-color: #f0f8ff;}#sk-container-id-4 input.sk-toggleable__control:checked~div.sk-toggleable__content {max-height: 200px;max-width: 100%;overflow: auto;}#sk-container-id-4 input.sk-toggleable__control:checked~label.sk-toggleable__label-arrow:before {content: \"▾\";}#sk-container-id-4 div.sk-estimator input.sk-toggleable__control:checked~label.sk-toggleable__label {background-color: #d4ebff;}#sk-container-id-4 div.sk-label input.sk-toggleable__control:checked~label.sk-toggleable__label {background-color: #d4ebff;}#sk-container-id-4 input.sk-hidden--visually {border: 0;clip: rect(1px 1px 1px 1px);clip: rect(1px, 1px, 1px, 1px);height: 1px;margin: -1px;overflow: hidden;padding: 0;position: absolute;width: 1px;}#sk-container-id-4 div.sk-estimator {font-family: monospace;background-color: #f0f8ff;border: 1px dotted black;border-radius: 0.25em;box-sizing: border-box;margin-bottom: 0.5em;}#sk-container-id-4 div.sk-estimator:hover {background-color: #d4ebff;}#sk-container-id-4 div.sk-parallel-item::after {content: \"\";width: 100%;border-bottom: 1px solid gray;flex-grow: 1;}#sk-container-id-4 div.sk-label:hover label.sk-toggleable__label {background-color: #d4ebff;}#sk-container-id-4 div.sk-serial::before {content: \"\";position: absolute;border-left: 1px solid gray;box-sizing: border-box;top: 0;bottom: 0;left: 50%;z-index: 0;}#sk-container-id-4 div.sk-serial {display: flex;flex-direction: column;align-items: center;background-color: white;padding-right: 0.2em;padding-left: 0.2em;position: relative;}#sk-container-id-4 div.sk-item {position: relative;z-index: 1;}#sk-container-id-4 div.sk-parallel {display: flex;align-items: stretch;justify-content: center;background-color: white;position: relative;}#sk-container-id-4 div.sk-item::before, #sk-container-id-4 div.sk-parallel-item::before {content: \"\";position: absolute;border-left: 1px solid gray;box-sizing: border-box;top: 0;bottom: 0;left: 50%;z-index: -1;}#sk-container-id-4 div.sk-parallel-item {display: flex;flex-direction: column;z-index: 1;position: relative;background-color: white;}#sk-container-id-4 div.sk-parallel-item:first-child::after {align-self: flex-end;width: 50%;}#sk-container-id-4 div.sk-parallel-item:last-child::after {align-self: flex-start;width: 50%;}#sk-container-id-4 div.sk-parallel-item:only-child::after {width: 0;}#sk-container-id-4 div.sk-dashed-wrapped {border: 1px dashed gray;margin: 0 0.4em 0.5em 0.4em;box-sizing: border-box;padding-bottom: 0.4em;background-color: white;}#sk-container-id-4 div.sk-label label {font-family: monospace;font-weight: bold;display: inline-block;line-height: 1.2em;}#sk-container-id-4 div.sk-label-container {text-align: center;}#sk-container-id-4 div.sk-container {/* jupyter's `normalize.less` sets `[hidden] { display: none; }` but bootstrap.min.css set `[hidden] { display: none !important; }` so we also need the `!important` here to be able to override the default hidden behavior on the sphinx rendered scikit-learn.org. See: https://github.com/scikit-learn/scikit-learn/issues/21755 */display: inline-block !important;position: relative;}#sk-container-id-4 div.sk-text-repr-fallback {display: none;}</style><div id=\"sk-container-id-4\" class=\"sk-top-container\"><div class=\"sk-text-repr-fallback\"><pre>VotingClassifier(estimators=[(&#x27;lr&#x27;,\n",
       "                              LogisticRegression(C=10.0,\n",
       "                                                 class_weight=&#x27;balanced&#x27;,\n",
       "                                                 random_state=12345,\n",
       "                                                 solver=&#x27;liblinear&#x27;)),\n",
       "                             (&#x27;lgbm&#x27;,\n",
       "                              LGBMClassifier(is_unbalance=True,\n",
       "                                             learning_rate=0.03,\n",
       "                                             n_estimators=500,\n",
       "                                             objective=&#x27;binary&#x27;,\n",
       "                                             random_state=12345))],\n",
       "                 n_jobs=-1, voting=&#x27;soft&#x27;)</pre><b>In a Jupyter environment, please rerun this cell to show the HTML representation or trust the notebook. <br />On GitHub, the HTML representation is unable to render, please try loading this page with nbviewer.org.</b></div><div class=\"sk-container\" hidden><div class=\"sk-item sk-dashed-wrapped\"><div class=\"sk-label-container\"><div class=\"sk-label sk-toggleable\"><input class=\"sk-toggleable__control sk-hidden--visually\" id=\"sk-estimator-id-4\" type=\"checkbox\" ><label for=\"sk-estimator-id-4\" class=\"sk-toggleable__label sk-toggleable__label-arrow\">VotingClassifier</label><div class=\"sk-toggleable__content\"><pre>VotingClassifier(estimators=[(&#x27;lr&#x27;,\n",
       "                              LogisticRegression(C=10.0,\n",
       "                                                 class_weight=&#x27;balanced&#x27;,\n",
       "                                                 random_state=12345,\n",
       "                                                 solver=&#x27;liblinear&#x27;)),\n",
       "                             (&#x27;lgbm&#x27;,\n",
       "                              LGBMClassifier(is_unbalance=True,\n",
       "                                             learning_rate=0.03,\n",
       "                                             n_estimators=500,\n",
       "                                             objective=&#x27;binary&#x27;,\n",
       "                                             random_state=12345))],\n",
       "                 n_jobs=-1, voting=&#x27;soft&#x27;)</pre></div></div></div><div class=\"sk-parallel\"><div class=\"sk-parallel-item\"><div class=\"sk-item\"><div class=\"sk-label-container\"><div class=\"sk-label sk-toggleable\"><label>lr</label></div></div><div class=\"sk-serial\"><div class=\"sk-item\"><div class=\"sk-estimator sk-toggleable\"><input class=\"sk-toggleable__control sk-hidden--visually\" id=\"sk-estimator-id-5\" type=\"checkbox\" ><label for=\"sk-estimator-id-5\" class=\"sk-toggleable__label sk-toggleable__label-arrow\">LogisticRegression</label><div class=\"sk-toggleable__content\"><pre>LogisticRegression(C=10.0, class_weight=&#x27;balanced&#x27;, random_state=12345,\n",
       "                   solver=&#x27;liblinear&#x27;)</pre></div></div></div></div></div></div><div class=\"sk-parallel-item\"><div class=\"sk-item\"><div class=\"sk-label-container\"><div class=\"sk-label sk-toggleable\"><label>lgbm</label></div></div><div class=\"sk-serial\"><div class=\"sk-item\"><div class=\"sk-estimator sk-toggleable\"><input class=\"sk-toggleable__control sk-hidden--visually\" id=\"sk-estimator-id-6\" type=\"checkbox\" ><label for=\"sk-estimator-id-6\" class=\"sk-toggleable__label sk-toggleable__label-arrow\">LGBMClassifier</label><div class=\"sk-toggleable__content\"><pre>LGBMClassifier(is_unbalance=True, learning_rate=0.03, n_estimators=500,\n",
       "               objective=&#x27;binary&#x27;, random_state=12345)</pre></div></div></div></div></div></div></div></div></div></div>"
      ],
      "text/plain": [
       "VotingClassifier(estimators=[('lr',\n",
       "                              LogisticRegression(C=10.0,\n",
       "                                                 class_weight='balanced',\n",
       "                                                 random_state=12345,\n",
       "                                                 solver='liblinear')),\n",
       "                             ('lgbm',\n",
       "                              LGBMClassifier(is_unbalance=True,\n",
       "                                             learning_rate=0.03,\n",
       "                                             n_estimators=500,\n",
       "                                             objective='binary',\n",
       "                                             random_state=12345))],\n",
       "                 n_jobs=-1, voting='soft')"
      ]
     },
     "execution_count": 45,
     "metadata": {},
     "output_type": "execute_result"
    }
   ],
   "source": [
    "%%time\n",
    "vc_model.fit(features_train, target_train)"
   ]
  },
  {
   "cell_type": "code",
   "execution_count": 46,
   "metadata": {},
   "outputs": [
    {
     "name": "stdout",
     "output_type": "stream",
     "text": [
      "Результат кросс-валидации\n",
      "[0.95144077 0.95235106 0.95420303]\n",
      "0.9526649507188147\n"
     ]
    }
   ],
   "source": [
    "print('Результат кросс-валидации')\n",
    "cross = cross_val_score(vc_model, features_train, target_train, cv=3)\n",
    "print(cross)\n",
    "print(cross.mean())"
   ]
  },
  {
   "cell_type": "code",
   "execution_count": 47,
   "metadata": {},
   "outputs": [
    {
     "name": "stdout",
     "output_type": "stream",
     "text": [
      "F1 на валидационной выборке: 0.78\n",
      "ROC_AUC на валидационной выборке: 0.90\n",
      "CPU times: total: 8.61 s\n",
      "Wall time: 2.36 s\n"
     ]
    }
   ],
   "source": [
    "%%time\n",
    "predictions_valid = vc_model.predict(features_valid)\n",
    "f1 = f1_score(target_valid, predictions_valid)\n",
    "roc_auc = roc_auc_score(target_valid, predictions_valid, average='weighted')\n",
    "models_simile.append([round(f1,2), round(roc_auc,2)])\n",
    "print(\"F1 на валидационной выборке: %.2f\" % f1)\n",
    "print(\"ROC_AUC на валидационной выборке: %.2f\" % roc_auc)"
   ]
  },
  {
   "cell_type": "code",
   "execution_count": 48,
   "metadata": {},
   "outputs": [
    {
     "data": {
      "image/png": "[encoded data removed]",
      "text/plain": [
       "<Figure size 640x480 with 2 Axes>"
      ]
     },
     "metadata": {},
     "output_type": "display_data"
    }
   ],
   "source": [
    "# построим матрицу ошибок\n",
    "cm = confusion_matrix(target_valid, predictions_valid,  normalize='true')\n",
    "sns.heatmap(cm, annot=True,  fmt='g', cmap='summer')\n",
    "\n",
    "plt.title('Матрица ошибок на валидационной выборке (с нормализацией)')\n",
    "plt.xlabel('предсказания')\n",
    "plt.ylabel('целевые значения')\n",
    "plt.show()"
   ]
  },
  {
   "cell_type": "markdown",
   "metadata": {},
   "source": [
    "С помощью модели VotingClassifier удалось повысить метрику F1 до 0.78 и сохранить AUC на уровни 0.9.\n",
    "\n",
    "Далее сравним модели и выберем лучшую для тестирования."
   ]
  },
  {
   "cell_type": "markdown",
   "metadata": {},
   "source": [
    "#### Сравнение метрик обученных моделей и выбор лучшей модели"
   ]
  },
  {
   "cell_type": "markdown",
   "metadata": {},
   "source": [
    "Сравним результаты обученных моделей по метрикам F1 и ROC_AUC:"
   ]
  },
  {
   "cell_type": "code",
   "execution_count": 49,
   "metadata": {},
   "outputs": [
    {
     "data": {
      "text/html": [
       "<div>\n",
       "<style scoped>\n",
       "    .dataframe tbody tr th:only-of-type {\n",
       "        vertical-align: middle;\n",
       "    }\n",
       "\n",
       "    .dataframe tbody tr th {\n",
       "        vertical-align: top;\n",
       "    }\n",
       "\n",
       "    .dataframe thead th {\n",
       "        text-align: right;\n",
       "    }\n",
       "</style>\n",
       "<table border=\"1\" class=\"dataframe\">\n",
       "  <thead>\n",
       "    <tr style=\"text-align: right;\">\n",
       "      <th></th>\n",
       "      <th>F1</th>\n",
       "      <th>ROC_AUC</th>\n",
       "    </tr>\n",
       "  </thead>\n",
       "  <tbody>\n",
       "    <tr>\n",
       "      <th>CatBoost</th>\n",
       "      <td>0.77</td>\n",
       "      <td>0.83</td>\n",
       "    </tr>\n",
       "    <tr>\n",
       "      <th>LogReg</th>\n",
       "      <td>0.77</td>\n",
       "      <td>0.89</td>\n",
       "    </tr>\n",
       "    <tr>\n",
       "      <th>LGBM</th>\n",
       "      <td>0.73</td>\n",
       "      <td>0.90</td>\n",
       "    </tr>\n",
       "    <tr>\n",
       "      <th>Voting</th>\n",
       "      <td>0.78</td>\n",
       "      <td>0.90</td>\n",
       "    </tr>\n",
       "  </tbody>\n",
       "</table>\n",
       "</div>"
      ],
      "text/plain": [
       "            F1  ROC_AUC\n",
       "CatBoost  0.77     0.83\n",
       "LogReg    0.77     0.89\n",
       "LGBM      0.73     0.90\n",
       "Voting    0.78     0.90"
      ]
     },
     "execution_count": 49,
     "metadata": {},
     "output_type": "execute_result"
    }
   ],
   "source": [
    "models_all = pd.DataFrame(models_simile, \n",
    "                                   columns=['F1', 'ROC_AUC'], \n",
    "                                   index=['CatBoost', 'LogReg', 'LGBM','Voting'])\n",
    "models_all"
   ]
  },
  {
   "cell_type": "markdown",
   "metadata": {},
   "source": [
    "Модель с лучшими показателями F1 и ROC_AUC - VotingClassifier.\n",
    "\n",
    "Используем ее для тестирования."
   ]
  },
  {
   "cell_type": "markdown",
   "metadata": {},
   "source": [
    "#### Тестирование лучшей модели"
   ]
  },
  {
   "cell_type": "code",
   "execution_count": 50,
   "metadata": {},
   "outputs": [
    {
     "name": "stdout",
     "output_type": "stream",
     "text": [
      "F1 на тестовой выборке: 0.79\n",
      "ROC_AUC на тестовой выборке: 0.91\n",
      "CPU times: total: 8.47 s\n",
      "Wall time: 2.28 s\n"
     ]
    }
   ],
   "source": [
    "%%time\n",
    "predictions_test = vc_model.predict(features_test)\n",
    "f1 = f1_score(target_test, predictions_test)\n",
    "roc_auc = roc_auc_score(target_test, predictions_test, average='weighted')\n",
    "print(\"F1 на тестовой выборке: %.2f\" % f1)\n",
    "print(\"ROC_AUC на тестовой выборке: %.2f\" % roc_auc)"
   ]
  },
  {
   "cell_type": "code",
   "execution_count": 51,
   "metadata": {},
   "outputs": [
    {
     "data": {
      "image/png": "[encoded data removed]",
      "text/plain": [
       "<Figure size 640x480 with 2 Axes>"
      ]
     },
     "metadata": {},
     "output_type": "display_data"
    }
   ],
   "source": [
    "# построим матрицу ошибок\n",
    "cm = confusion_matrix(target_test, predictions_test,  normalize='true')\n",
    "sns.heatmap(cm, annot=True,  fmt='g', cmap='summer')\n",
    "\n",
    "plt.title('Матрица ошибок на тестовой выборке (с нормализацией)')\n",
    "plt.xlabel('предсказания')\n",
    "plt.ylabel('целевые значения')\n",
    "plt.show()"
   ]
  },
  {
   "cell_type": "markdown",
   "metadata": {},
   "source": [
    "Выбранная модель показала хорошие результаты при тестировании:\n",
    "- F1 на тестовой выборке: 0.79;\n",
    "- ROC_AUC на тестовой выборке: 0.91.\n",
    "\n",
    "Модель соответствует целевому уровню F1 (не менее 0.75).\n",
    "\n",
    "Далее приведем пример корректировки порогового значения для определения классов с целью повышения полноты выявления токсичных комментариев."
   ]
  },
  {
   "cell_type": "markdown",
   "metadata": {},
   "source": [
    "#### *Дополнительно: корректировка порогового значения"
   ]
  },
  {
   "cell_type": "markdown",
   "metadata": {},
   "source": [
    "С помощью корректировки порогового значения при определении класса попробуем улучшить полноту предсказания класса 1 (токсичные комментарии)."
   ]
  },
  {
   "cell_type": "code",
   "execution_count": 52,
   "metadata": {},
   "outputs": [],
   "source": [
    "predict_proba = vc_model.predict_proba(features_test)[:,1]"
   ]
  },
  {
   "cell_type": "code",
   "execution_count": 53,
   "metadata": {},
   "outputs": [],
   "source": [
    "f1 = []\n",
    "auc = []\n",
    "for threshold in np.arange(0, 1.01, 0.01):\n",
    "    predict = predict_proba > threshold\n",
    "    f1.append([float('{:.2f}'.format(threshold)),float('{:.4f}'.format(f1_score(target_test, predict)))])\n",
    "    auc.append([float('{:.2f}'.format(threshold)),float('{:.4f}'.format(roc_auc_score(target_test, predict, \n",
    "                                                                                      average='weighted')))])"
   ]
  },
  {
   "cell_type": "markdown",
   "metadata": {},
   "source": [
    "Вручную подберем пороговое значение с максимальным F1 и без потери качества ROC_AUC:"
   ]
  },
  {
   "cell_type": "code",
   "execution_count": 54,
   "metadata": {},
   "outputs": [
    {
     "data": {
      "image/png": "[encoded data removed]",
      "text/plain": [
       "<Figure size 1200x600 with 1 Axes>"
      ]
     },
     "metadata": {},
     "output_type": "display_data"
    }
   ],
   "source": [
    "fig, ax = plt.subplots(figsize=(12, 6))\n",
    "ax.plot(np.array(f1)[:,0], np.array(f1)[:,1], label = 'F1')\n",
    "ax.plot(np.array(auc)[:,0], np.array(auc)[:,1], label = 'AUC_ROC')\n",
    "ax.scatter(0.43, 0.915, c='r', lw = 5)\n",
    "ax.scatter(0.43, 0.77, c='black', lw = 5)\n",
    "ax.legend()\n",
    "plt.xlabel('Порог')\n",
    "plt.ylabel('Значение метрик качества')\n",
    "plt.title('Подбор порогового значения при присвоении класса')\n",
    "\n",
    "plt.show()"
   ]
  },
  {
   "cell_type": "code",
   "execution_count": 55,
   "metadata": {},
   "outputs": [
    {
     "name": "stdout",
     "output_type": "stream",
     "text": [
      "F1: 0.7713\n",
      "ROC_AUC: 0.92\n"
     ]
    }
   ],
   "source": [
    "predict = predict_proba > 0.43\n",
    "print('F1: {:.4f}'.format(f1_score(target_test, predict)))\n",
    "roc_auc = roc_auc_score(target_test, predict, average='weighted')\n",
    "print(\"ROC_AUC: %.2f\" % roc_auc)"
   ]
  },
  {
   "cell_type": "code",
   "execution_count": 56,
   "metadata": {},
   "outputs": [
    {
     "data": {
      "image/png": "[encoded data removed]",
      "text/plain": [
       "<Figure size 640x480 with 2 Axes>"
      ]
     },
     "metadata": {},
     "output_type": "display_data"
    }
   ],
   "source": [
    "# построим матрицу ошибок\n",
    "cm = confusion_matrix(target_test, predict,  normalize='true')\n",
    "sns.heatmap(cm, annot=True,  fmt='g', cmap='summer')\n",
    "\n",
    "plt.title('Матрица ошибок на тестовой выборке (с нормализацией)')\n",
    "plt.xlabel('предсказания')\n",
    "plt.ylabel('целевые значения')\n",
    "plt.show()"
   ]
  },
  {
   "cell_type": "markdown",
   "metadata": {},
   "source": [
    "По итогам корректировки порогового значения удалось улучшить полноту предсказания 1-го класса с 0.85 до 0.88 (на 0.03 процентных пункта). При этом полнота определения класса 0 снизилась незначительно - с 0.97 до 0.96 (на 0.01 процентных пункта).\n",
    "\n",
    "При этом метрика F1 снизилась с 0.79 до 0.77 (на 0.02 п.п.), а ROC_AUC выросла на 0.01 п.п. - с 0.91 до 0.92.\n",
    "\n",
    "Модель удовлетворяет требованиям заказчика - F1 не менее 0.75.\n",
    "\n",
    "Такая корректировка модели позволит выявлять больший процент токсичных комментариев."
   ]
  },
  {
   "cell_type": "markdown",
   "metadata": {},
   "source": [
    "## Выводы"
   ]
  },
  {
   "cell_type": "markdown",
   "metadata": {},
   "source": [
    "В ходе выполнения проекта было реализовано:\n",
    "- загружены и подготовлены для обучения данные;\n",
    "- подготовлены признаки для обучения с помощью TfidfVectorizer, удалены стоп-слова;\n",
    "- подобраны гиперпараметры и обучены следующие модели (результат на валидационной выборке):\t\n",
    "    - CatBoostClassifier: F1 - 0.77, ROC_AUC - 0.83;\n",
    "    - LogisticRegression:\tF1 - 0.77, ROC_AUC - 0.89;\n",
    "    - LGBMClassifier:\tF1 - 0.73,\tROC_AUC - 0.90;\n",
    "    - VotingClassifier:\tF1 - 0.78, ROC_AUC - 0.90.\n",
    "- выбрана модель с лучшими показателями (VotingClassifier) и протестирована на тестовой выборке:\n",
    "    - F1 на тестовой выборке: 0.79 (модель соответствует целевому уровню F1 - не менее 0.75);\n",
    "    - ROC_AUC на тестовой выборке: 0.91.\n",
    "- скорректировано пороговое значение для улучшения полноты предсказания 1-го класса - с 0.85 до 0.88 (на 0.03 процентных пункта). Такая корректировка модели позволит выявлять больший процент токсичных комментариев.\n",
    "\n",
    "**Итоговые показатели качества модели VotingClassifier с LogisticRegression и LGBMClassifier:**\n",
    "- F1: 0.77\n",
    "- ROC_AUC: 0.92\n",
    "\n",
    "\n",
    "Модель удовлетворяет требованиям заказчика - F1 не менее 0.75."
   ]
  },
  {
   "cell_type": "code",
   "execution_count": null,
   "metadata": {},
   "outputs": [],
   "source": []
  }
 ],
 "metadata": {
  "ExecuteTimeLog": [
   {
    "duration": 55,
    "start_time": "2023-01-15T13:47:14.716Z"
   },
   {
    "duration": 14039,
    "start_time": "2023-01-15T13:48:36.801Z"
   },
   {
    "duration": 2473,
    "start_time": "2023-01-15T13:48:50.843Z"
   },
   {
    "duration": 872,
    "start_time": "2023-01-15T13:48:53.318Z"
   },
   {
    "duration": 3008,
    "start_time": "2023-01-15T13:48:54.192Z"
   },
   {
    "duration": 2,
    "start_time": "2023-01-15T13:48:57.203Z"
   },
   {
    "duration": 2290,
    "start_time": "2023-01-15T13:48:57.207Z"
   },
   {
    "duration": 13,
    "start_time": "2023-01-15T13:48:59.499Z"
   },
   {
    "duration": 77884,
    "start_time": "2023-01-15T13:48:59.514Z"
   },
   {
    "duration": 5,
    "start_time": "2023-01-15T13:50:17.400Z"
   },
   {
    "duration": 4,
    "start_time": "2023-01-15T13:50:22.444Z"
   },
   {
    "duration": 61,
    "start_time": "2023-01-15T13:50:25.549Z"
   },
   {
    "duration": 51,
    "start_time": "2023-01-15T13:50:26.385Z"
   },
   {
    "duration": 9,
    "start_time": "2023-01-15T13:50:28.173Z"
   },
   {
    "duration": 215,
    "start_time": "2023-01-15T13:50:35.923Z"
   },
   {
    "duration": 4,
    "start_time": "2023-01-15T13:50:38.117Z"
   },
   {
    "duration": 5343,
    "start_time": "2023-01-15T13:50:38.969Z"
   },
   {
    "duration": 5115,
    "start_time": "2023-01-15T13:50:47.030Z"
   },
   {
    "duration": 1752,
    "start_time": "2023-01-15T13:50:55.530Z"
   },
   {
    "duration": 1816,
    "start_time": "2023-01-15T13:51:00.504Z"
   },
   {
    "duration": 4,
    "start_time": "2023-01-15T13:51:09.906Z"
   },
   {
    "duration": 3,
    "start_time": "2023-01-15T13:51:11.240Z"
   },
   {
    "duration": 668332,
    "start_time": "2023-01-15T13:51:13.182Z"
   },
   {
    "duration": 5,
    "start_time": "2023-01-15T14:02:37.370Z"
   },
   {
    "duration": 14,
    "start_time": "2023-01-15T14:02:38.779Z"
   },
   {
    "duration": 4,
    "start_time": "2023-01-15T14:02:41.777Z"
   },
   {
    "duration": 389232,
    "start_time": "2023-01-15T14:02:42.539Z"
   },
   {
    "duration": 495,
    "start_time": "2023-01-15T14:09:47.226Z"
   },
   {
    "duration": 300,
    "start_time": "2023-01-15T14:09:51.400Z"
   },
   {
    "duration": 4,
    "start_time": "2023-01-15T14:10:02.705Z"
   },
   {
    "duration": 330370,
    "start_time": "2023-01-15T14:10:03.654Z"
   },
   {
    "duration": 3,
    "start_time": "2023-01-15T14:15:34.026Z"
   },
   {
    "duration": 28034,
    "start_time": "2023-01-15T14:15:34.031Z"
   },
   {
    "duration": 52319,
    "start_time": "2023-01-15T14:16:02.067Z"
   },
   {
    "duration": 0,
    "start_time": "2023-01-15T14:16:54.390Z"
   },
   {
    "duration": 3,
    "start_time": "2023-01-15T14:16:58.031Z"
   },
   {
    "duration": 251061,
    "start_time": "2023-01-15T14:16:59.793Z"
   },
   {
    "duration": 2,
    "start_time": "2023-01-15T14:21:30.881Z"
   },
   {
    "duration": 27410,
    "start_time": "2023-01-15T14:21:32.253Z"
   },
   {
    "duration": 130179,
    "start_time": "2023-01-15T14:22:05.995Z"
   },
   {
    "duration": 39,
    "start_time": "2023-01-15T14:25:02.526Z"
   },
   {
    "duration": 341,
    "start_time": "2023-01-15T14:25:54.307Z"
   },
   {
    "duration": 4,
    "start_time": "2023-01-15T14:26:01.792Z"
   },
   {
    "duration": 2000186,
    "start_time": "2023-01-15T14:26:02.272Z"
   },
   {
    "duration": 4,
    "start_time": "2023-01-15T14:59:22.462Z"
   }
  ],
  "kernelspec": {
   "display_name": "Python 3 (ipykernel)",
   "language": "python",
   "name": "python3"
  },
  "language_info": {
   "codemirror_mode": {
    "name": "ipython",
    "version": 3
   },
   "file_extension": ".py",
   "mimetype": "text/x-python",
   "name": "python",
   "nbconvert_exporter": "python",
   "pygments_lexer": "ipython3",
   "version": "3.9.12"
  },
  "toc": {
   "base_numbering": 1,
   "nav_menu": {},
   "number_sections": true,
   "sideBar": true,
   "skip_h1_title": true,
   "title_cell": "Содержание",
   "title_sidebar": "Contents",
   "toc_cell": true,
   "toc_position": {
    "height": "calc(100% - 180px)",
    "left": "10px",
    "top": "150px",
    "width": "379.387px"
   },
   "toc_section_display": true,
   "toc_window_display": false
  }
 },
 "nbformat": 4,
 "nbformat_minor": 2
}
